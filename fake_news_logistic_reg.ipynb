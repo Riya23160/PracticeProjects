{
  "nbformat": 4,
  "nbformat_minor": 0,
  "metadata": {
    "colab": {
      "provenance": [],
      "authorship_tag": "ABX9TyM6F7Yhp7kOTzw+yyOs/DcE",
      "include_colab_link": true
    },
    "kernelspec": {
      "name": "python3",
      "display_name": "Python 3"
    },
    "language_info": {
      "name": "python"
    },
    "widgets": {
      "application/vnd.jupyter.widget-state+json": {
        "bd6659c01e5042948f1d93bea583fd81": {
          "model_module": "@jupyter-widgets/controls",
          "model_name": "HBoxModel",
          "model_module_version": "1.5.0",
          "state": {
            "_dom_classes": [],
            "_model_module": "@jupyter-widgets/controls",
            "_model_module_version": "1.5.0",
            "_model_name": "HBoxModel",
            "_view_count": null,
            "_view_module": "@jupyter-widgets/controls",
            "_view_module_version": "1.5.0",
            "_view_name": "HBoxView",
            "box_style": "",
            "children": [
              "IPY_MODEL_f01624e57a5f41ee979b89c5af9cfbda",
              "IPY_MODEL_5606755e26254b1d979dd91c6dd45fd1",
              "IPY_MODEL_f5e6bcbee84e4f11b613873f8d233ee5"
            ],
            "layout": "IPY_MODEL_adf918a70f094b099ac5f454cdc5949f"
          }
        },
        "f01624e57a5f41ee979b89c5af9cfbda": {
          "model_module": "@jupyter-widgets/controls",
          "model_name": "HTMLModel",
          "model_module_version": "1.5.0",
          "state": {
            "_dom_classes": [],
            "_model_module": "@jupyter-widgets/controls",
            "_model_module_version": "1.5.0",
            "_model_name": "HTMLModel",
            "_view_count": null,
            "_view_module": "@jupyter-widgets/controls",
            "_view_module_version": "1.5.0",
            "_view_name": "HTMLView",
            "description": "",
            "description_tooltip": null,
            "layout": "IPY_MODEL_9def481b909b4a47aa1000fd32465399",
            "placeholder": "​",
            "style": "IPY_MODEL_3ac09a9f059646639d0b78089c196b42",
            "value": "100%"
          }
        },
        "5606755e26254b1d979dd91c6dd45fd1": {
          "model_module": "@jupyter-widgets/controls",
          "model_name": "FloatProgressModel",
          "model_module_version": "1.5.0",
          "state": {
            "_dom_classes": [],
            "_model_module": "@jupyter-widgets/controls",
            "_model_module_version": "1.5.0",
            "_model_name": "FloatProgressModel",
            "_view_count": null,
            "_view_module": "@jupyter-widgets/controls",
            "_view_module_version": "1.5.0",
            "_view_name": "ProgressView",
            "bar_style": "success",
            "description": "",
            "description_tooltip": null,
            "layout": "IPY_MODEL_a0994d91227648488b728bf95077ff4a",
            "max": 44898,
            "min": 0,
            "orientation": "horizontal",
            "style": "IPY_MODEL_5f0346069fe54bdc93a19304017e6662",
            "value": 44898
          }
        },
        "f5e6bcbee84e4f11b613873f8d233ee5": {
          "model_module": "@jupyter-widgets/controls",
          "model_name": "HTMLModel",
          "model_module_version": "1.5.0",
          "state": {
            "_dom_classes": [],
            "_model_module": "@jupyter-widgets/controls",
            "_model_module_version": "1.5.0",
            "_model_name": "HTMLModel",
            "_view_count": null,
            "_view_module": "@jupyter-widgets/controls",
            "_view_module_version": "1.5.0",
            "_view_name": "HTMLView",
            "description": "",
            "description_tooltip": null,
            "layout": "IPY_MODEL_c994e9f17e284c31a040c04919d0090f",
            "placeholder": "​",
            "style": "IPY_MODEL_ba514a2a50644e83867594a14c1c4d42",
            "value": " 44898/44898 [04:09&lt;00:00, 145.18it/s]"
          }
        },
        "adf918a70f094b099ac5f454cdc5949f": {
          "model_module": "@jupyter-widgets/base",
          "model_name": "LayoutModel",
          "model_module_version": "1.2.0",
          "state": {
            "_model_module": "@jupyter-widgets/base",
            "_model_module_version": "1.2.0",
            "_model_name": "LayoutModel",
            "_view_count": null,
            "_view_module": "@jupyter-widgets/base",
            "_view_module_version": "1.2.0",
            "_view_name": "LayoutView",
            "align_content": null,
            "align_items": null,
            "align_self": null,
            "border": null,
            "bottom": null,
            "display": null,
            "flex": null,
            "flex_flow": null,
            "grid_area": null,
            "grid_auto_columns": null,
            "grid_auto_flow": null,
            "grid_auto_rows": null,
            "grid_column": null,
            "grid_gap": null,
            "grid_row": null,
            "grid_template_areas": null,
            "grid_template_columns": null,
            "grid_template_rows": null,
            "height": null,
            "justify_content": null,
            "justify_items": null,
            "left": null,
            "margin": null,
            "max_height": null,
            "max_width": null,
            "min_height": null,
            "min_width": null,
            "object_fit": null,
            "object_position": null,
            "order": null,
            "overflow": null,
            "overflow_x": null,
            "overflow_y": null,
            "padding": null,
            "right": null,
            "top": null,
            "visibility": null,
            "width": null
          }
        },
        "9def481b909b4a47aa1000fd32465399": {
          "model_module": "@jupyter-widgets/base",
          "model_name": "LayoutModel",
          "model_module_version": "1.2.0",
          "state": {
            "_model_module": "@jupyter-widgets/base",
            "_model_module_version": "1.2.0",
            "_model_name": "LayoutModel",
            "_view_count": null,
            "_view_module": "@jupyter-widgets/base",
            "_view_module_version": "1.2.0",
            "_view_name": "LayoutView",
            "align_content": null,
            "align_items": null,
            "align_self": null,
            "border": null,
            "bottom": null,
            "display": null,
            "flex": null,
            "flex_flow": null,
            "grid_area": null,
            "grid_auto_columns": null,
            "grid_auto_flow": null,
            "grid_auto_rows": null,
            "grid_column": null,
            "grid_gap": null,
            "grid_row": null,
            "grid_template_areas": null,
            "grid_template_columns": null,
            "grid_template_rows": null,
            "height": null,
            "justify_content": null,
            "justify_items": null,
            "left": null,
            "margin": null,
            "max_height": null,
            "max_width": null,
            "min_height": null,
            "min_width": null,
            "object_fit": null,
            "object_position": null,
            "order": null,
            "overflow": null,
            "overflow_x": null,
            "overflow_y": null,
            "padding": null,
            "right": null,
            "top": null,
            "visibility": null,
            "width": null
          }
        },
        "3ac09a9f059646639d0b78089c196b42": {
          "model_module": "@jupyter-widgets/controls",
          "model_name": "DescriptionStyleModel",
          "model_module_version": "1.5.0",
          "state": {
            "_model_module": "@jupyter-widgets/controls",
            "_model_module_version": "1.5.0",
            "_model_name": "DescriptionStyleModel",
            "_view_count": null,
            "_view_module": "@jupyter-widgets/base",
            "_view_module_version": "1.2.0",
            "_view_name": "StyleView",
            "description_width": ""
          }
        },
        "a0994d91227648488b728bf95077ff4a": {
          "model_module": "@jupyter-widgets/base",
          "model_name": "LayoutModel",
          "model_module_version": "1.2.0",
          "state": {
            "_model_module": "@jupyter-widgets/base",
            "_model_module_version": "1.2.0",
            "_model_name": "LayoutModel",
            "_view_count": null,
            "_view_module": "@jupyter-widgets/base",
            "_view_module_version": "1.2.0",
            "_view_name": "LayoutView",
            "align_content": null,
            "align_items": null,
            "align_self": null,
            "border": null,
            "bottom": null,
            "display": null,
            "flex": null,
            "flex_flow": null,
            "grid_area": null,
            "grid_auto_columns": null,
            "grid_auto_flow": null,
            "grid_auto_rows": null,
            "grid_column": null,
            "grid_gap": null,
            "grid_row": null,
            "grid_template_areas": null,
            "grid_template_columns": null,
            "grid_template_rows": null,
            "height": null,
            "justify_content": null,
            "justify_items": null,
            "left": null,
            "margin": null,
            "max_height": null,
            "max_width": null,
            "min_height": null,
            "min_width": null,
            "object_fit": null,
            "object_position": null,
            "order": null,
            "overflow": null,
            "overflow_x": null,
            "overflow_y": null,
            "padding": null,
            "right": null,
            "top": null,
            "visibility": null,
            "width": null
          }
        },
        "5f0346069fe54bdc93a19304017e6662": {
          "model_module": "@jupyter-widgets/controls",
          "model_name": "ProgressStyleModel",
          "model_module_version": "1.5.0",
          "state": {
            "_model_module": "@jupyter-widgets/controls",
            "_model_module_version": "1.5.0",
            "_model_name": "ProgressStyleModel",
            "_view_count": null,
            "_view_module": "@jupyter-widgets/base",
            "_view_module_version": "1.2.0",
            "_view_name": "StyleView",
            "bar_color": null,
            "description_width": ""
          }
        },
        "c994e9f17e284c31a040c04919d0090f": {
          "model_module": "@jupyter-widgets/base",
          "model_name": "LayoutModel",
          "model_module_version": "1.2.0",
          "state": {
            "_model_module": "@jupyter-widgets/base",
            "_model_module_version": "1.2.0",
            "_model_name": "LayoutModel",
            "_view_count": null,
            "_view_module": "@jupyter-widgets/base",
            "_view_module_version": "1.2.0",
            "_view_name": "LayoutView",
            "align_content": null,
            "align_items": null,
            "align_self": null,
            "border": null,
            "bottom": null,
            "display": null,
            "flex": null,
            "flex_flow": null,
            "grid_area": null,
            "grid_auto_columns": null,
            "grid_auto_flow": null,
            "grid_auto_rows": null,
            "grid_column": null,
            "grid_gap": null,
            "grid_row": null,
            "grid_template_areas": null,
            "grid_template_columns": null,
            "grid_template_rows": null,
            "height": null,
            "justify_content": null,
            "justify_items": null,
            "left": null,
            "margin": null,
            "max_height": null,
            "max_width": null,
            "min_height": null,
            "min_width": null,
            "object_fit": null,
            "object_position": null,
            "order": null,
            "overflow": null,
            "overflow_x": null,
            "overflow_y": null,
            "padding": null,
            "right": null,
            "top": null,
            "visibility": null,
            "width": null
          }
        },
        "ba514a2a50644e83867594a14c1c4d42": {
          "model_module": "@jupyter-widgets/controls",
          "model_name": "DescriptionStyleModel",
          "model_module_version": "1.5.0",
          "state": {
            "_model_module": "@jupyter-widgets/controls",
            "_model_module_version": "1.5.0",
            "_model_name": "DescriptionStyleModel",
            "_view_count": null,
            "_view_module": "@jupyter-widgets/base",
            "_view_module_version": "1.2.0",
            "_view_name": "StyleView",
            "description_width": ""
          }
        }
      }
    }
  },
  "cells": [
    {
      "cell_type": "markdown",
      "metadata": {
        "id": "view-in-github",
        "colab_type": "text"
      },
      "source": [
        "<a href=\"https://colab.research.google.com/github/Riya23160/PracticeProjects/blob/main/fake_news_logistic_reg.ipynb\" target=\"_parent\"><img src=\"https://colab.research.google.com/assets/colab-badge.svg\" alt=\"Open In Colab\"/></a>"
      ]
    },
    {
      "cell_type": "code",
      "source": [
        "import numpy as np\n",
        "import pandas as pd\n",
        "import re\n",
        "from nltk.corpus import stopwords\n",
        "from nltk.stem.porter import PorterStemmer\n",
        "from sklearn.feature_extraction.text import TfidfVectorizer\n",
        "from sklearn.model_selection import train_test_split\n",
        "from sklearn.linear_model import LogisticRegression\n",
        "from sklearn.metrics import accuracy_score\n",
        "from tqdm import tqdm"
      ],
      "metadata": {
        "id": "sOZ10hyWpATU"
      },
      "execution_count": null,
      "outputs": []
    },
    {
      "cell_type": "code",
      "source": [
        "\n",
        "import nltk\n",
        "nltk.download('stopwords')"
      ],
      "metadata": {
        "colab": {
          "base_uri": "https://localhost:8080/"
        },
        "id": "EiA0t52i6AY0",
        "outputId": "fc01e92f-fcc6-4f04-d024-d47d7e15c0ef"
      },
      "execution_count": null,
      "outputs": [
        {
          "output_type": "stream",
          "name": "stderr",
          "text": [
            "[nltk_data] Downloading package stopwords to /root/nltk_data...\n",
            "[nltk_data]   Package stopwords is already up-to-date!\n"
          ]
        },
        {
          "output_type": "execute_result",
          "data": {
            "text/plain": [
              "True"
            ]
          },
          "metadata": {},
          "execution_count": 64
        }
      ]
    },
    {
      "cell_type": "code",
      "source": [
        "print(stopwords.words('english'))"
      ],
      "metadata": {
        "colab": {
          "base_uri": "https://localhost:8080/"
        },
        "id": "Fp3T2sPQ6p_u",
        "outputId": "ad817667-cc42-410c-f6a3-a7353493b13a"
      },
      "execution_count": null,
      "outputs": [
        {
          "output_type": "stream",
          "name": "stdout",
          "text": [
            "['a', 'about', 'above', 'after', 'again', 'against', 'ain', 'all', 'am', 'an', 'and', 'any', 'are', 'aren', \"aren't\", 'as', 'at', 'be', 'because', 'been', 'before', 'being', 'below', 'between', 'both', 'but', 'by', 'can', 'couldn', \"couldn't\", 'd', 'did', 'didn', \"didn't\", 'do', 'does', 'doesn', \"doesn't\", 'doing', 'don', \"don't\", 'down', 'during', 'each', 'few', 'for', 'from', 'further', 'had', 'hadn', \"hadn't\", 'has', 'hasn', \"hasn't\", 'have', 'haven', \"haven't\", 'having', 'he', \"he'd\", \"he'll\", 'her', 'here', 'hers', 'herself', \"he's\", 'him', 'himself', 'his', 'how', 'i', \"i'd\", 'if', \"i'll\", \"i'm\", 'in', 'into', 'is', 'isn', \"isn't\", 'it', \"it'd\", \"it'll\", \"it's\", 'its', 'itself', \"i've\", 'just', 'll', 'm', 'ma', 'me', 'mightn', \"mightn't\", 'more', 'most', 'mustn', \"mustn't\", 'my', 'myself', 'needn', \"needn't\", 'no', 'nor', 'not', 'now', 'o', 'of', 'off', 'on', 'once', 'only', 'or', 'other', 'our', 'ours', 'ourselves', 'out', 'over', 'own', 're', 's', 'same', 'shan', \"shan't\", 'she', \"she'd\", \"she'll\", \"she's\", 'should', 'shouldn', \"shouldn't\", \"should've\", 'so', 'some', 'such', 't', 'than', 'that', \"that'll\", 'the', 'their', 'theirs', 'them', 'themselves', 'then', 'there', 'these', 'they', \"they'd\", \"they'll\", \"they're\", \"they've\", 'this', 'those', 'through', 'to', 'too', 'under', 'until', 'up', 've', 'very', 'was', 'wasn', \"wasn't\", 'we', \"we'd\", \"we'll\", \"we're\", 'were', 'weren', \"weren't\", \"we've\", 'what', 'when', 'where', 'which', 'while', 'who', 'whom', 'why', 'will', 'with', 'won', \"won't\", 'wouldn', \"wouldn't\", 'y', 'you', \"you'd\", \"you'll\", 'your', \"you're\", 'yours', 'yourself', 'yourselves', \"you've\"]\n"
          ]
        }
      ]
    },
    {
      "cell_type": "markdown",
      "source": [
        "data preproccesing"
      ],
      "metadata": {
        "id": "9LHYbFBH7EZ3"
      }
    },
    {
      "cell_type": "code",
      "source": [
        "\n",
        "dff=pd.read_csv('/Fake.csv')\n",
        "dft=pd.read_csv('/True.csv')"
      ],
      "metadata": {
        "id": "Wgj6RUd26v_X"
      },
      "execution_count": null,
      "outputs": []
    },
    {
      "cell_type": "code",
      "source": [
        "print(dff.head())\n",
        "print(dft.head())"
      ],
      "metadata": {
        "colab": {
          "base_uri": "https://localhost:8080/"
        },
        "id": "1aTvW7P67NFU",
        "outputId": "2ef6adac-ba09-455a-a34d-6da09594e770"
      },
      "execution_count": null,
      "outputs": [
        {
          "output_type": "stream",
          "name": "stdout",
          "text": [
            "                                               title  ...               date\n",
            "0   Donald Trump Sends Out Embarrassing New Year’...  ...  December 31, 2017\n",
            "1   Drunk Bragging Trump Staffer Started Russian ...  ...  December 31, 2017\n",
            "2   Sheriff David Clarke Becomes An Internet Joke...  ...  December 30, 2017\n",
            "3   Trump Is So Obsessed He Even Has Obama’s Name...  ...  December 29, 2017\n",
            "4   Pope Francis Just Called Out Donald Trump Dur...  ...  December 25, 2017\n",
            "\n",
            "[5 rows x 4 columns]\n",
            "                                               title  ...                date\n",
            "0  As U.S. budget fight looms, Republicans flip t...  ...  December 31, 2017 \n",
            "1  U.S. military to accept transgender recruits o...  ...  December 29, 2017 \n",
            "2  Senior U.S. Republican senator: 'Let Mr. Muell...  ...  December 31, 2017 \n",
            "3  FBI Russia probe helped by Australian diplomat...  ...  December 30, 2017 \n",
            "4  Trump wants Postal Service to charge 'much mor...  ...  December 29, 2017 \n",
            "\n",
            "[5 rows x 4 columns]\n"
          ]
        }
      ]
    },
    {
      "cell_type": "code",
      "source": [
        "print(dft.shape)\n",
        "print(dff.shape)"
      ],
      "metadata": {
        "colab": {
          "base_uri": "https://localhost:8080/"
        },
        "id": "OzzALYLj8aU4",
        "outputId": "65327b2c-dd44-4fc3-a3c8-d2dba846b7a2"
      },
      "execution_count": null,
      "outputs": [
        {
          "output_type": "stream",
          "name": "stdout",
          "text": [
            "(21417, 4)\n",
            "(23481, 4)\n"
          ]
        }
      ]
    },
    {
      "cell_type": "code",
      "source": [
        "print(dft.isna().sum())\n",
        "print(dff.isna().sum())"
      ],
      "metadata": {
        "colab": {
          "base_uri": "https://localhost:8080/"
        },
        "id": "GklINjoZ8d4j",
        "outputId": "d05a9647-6338-48e0-a6c9-6b871d7bfdf0"
      },
      "execution_count": null,
      "outputs": [
        {
          "output_type": "stream",
          "name": "stdout",
          "text": [
            "title      0\n",
            "text       0\n",
            "subject    0\n",
            "date       0\n",
            "dtype: int64\n",
            "title      0\n",
            "text       0\n",
            "subject    0\n",
            "date       0\n",
            "dtype: int64\n"
          ]
        }
      ]
    },
    {
      "cell_type": "code",
      "source": [
        "dft['label']=1\n",
        "dff['label']=0\n",
        "new_df=pd.concat([dft,dff],ignore_index=True)\n",
        "new_df.drop(columns=['subject','date'],inplace=True,axis=1)\n",
        "new_df['news']=new_df['title']+new_df['text']\n",
        "print(new_df)"
      ],
      "metadata": {
        "colab": {
          "base_uri": "https://localhost:8080/"
        },
        "id": "tjqk6J408vUM",
        "outputId": "aed19145-9abc-44f3-c938-86820087db18"
      },
      "execution_count": null,
      "outputs": [
        {
          "output_type": "stream",
          "name": "stdout",
          "text": [
            "                                                   title  ...                                               news\n",
            "0      As U.S. budget fight looms, Republicans flip t...  ...  As U.S. budget fight looms, Republicans flip t...\n",
            "1      U.S. military to accept transgender recruits o...  ...  U.S. military to accept transgender recruits o...\n",
            "2      Senior U.S. Republican senator: 'Let Mr. Muell...  ...  Senior U.S. Republican senator: 'Let Mr. Muell...\n",
            "3      FBI Russia probe helped by Australian diplomat...  ...  FBI Russia probe helped by Australian diplomat...\n",
            "4      Trump wants Postal Service to charge 'much mor...  ...  Trump wants Postal Service to charge 'much mor...\n",
            "...                                                  ...  ...                                                ...\n",
            "44893  McPain: John McCain Furious That Iran Treated ...  ...  McPain: John McCain Furious That Iran Treated ...\n",
            "44894  JUSTICE? Yahoo Settles E-mail Privacy Class-ac...  ...  JUSTICE? Yahoo Settles E-mail Privacy Class-ac...\n",
            "44895  Sunnistan: US and Allied ‘Safe Zone’ Plan to T...  ...  Sunnistan: US and Allied ‘Safe Zone’ Plan to T...\n",
            "44896  How to Blow $700 Million: Al Jazeera America F...  ...  How to Blow $700 Million: Al Jazeera America F...\n",
            "44897  10 U.S. Navy Sailors Held by Iranian Military ...  ...  10 U.S. Navy Sailors Held by Iranian Military ...\n",
            "\n",
            "[44898 rows x 4 columns]\n"
          ]
        }
      ]
    },
    {
      "cell_type": "code",
      "source": [
        "new_df.head()\n",
        "new_df.shape"
      ],
      "metadata": {
        "colab": {
          "base_uri": "https://localhost:8080/"
        },
        "id": "OEIvzp8e9WP9",
        "outputId": "daa70aba-54f1-4959-bc7d-4af287584cb5"
      },
      "execution_count": null,
      "outputs": [
        {
          "output_type": "execute_result",
          "data": {
            "text/plain": [
              "(44898, 4)"
            ]
          },
          "metadata": {},
          "execution_count": 71
        }
      ]
    },
    {
      "cell_type": "code",
      "source": [
        "x=new_df.drop(columns='label',axis=1)\n",
        "y=new_df['label']"
      ],
      "metadata": {
        "id": "59yCMXJT9a9e"
      },
      "execution_count": null,
      "outputs": []
    },
    {
      "cell_type": "code",
      "source": [
        "x\n",
        "\n"
      ],
      "metadata": {
        "colab": {
          "base_uri": "https://localhost:8080/",
          "height": 423
        },
        "id": "P8Av9W9U9w3Z",
        "outputId": "2f79af68-068a-4a7d-95ff-5ca0eaaf73d3"
      },
      "execution_count": null,
      "outputs": [
        {
          "output_type": "execute_result",
          "data": {
            "text/plain": [
              "                                                   title  ...                                               news\n",
              "0      As U.S. budget fight looms, Republicans flip t...  ...  As U.S. budget fight looms, Republicans flip t...\n",
              "1      U.S. military to accept transgender recruits o...  ...  U.S. military to accept transgender recruits o...\n",
              "2      Senior U.S. Republican senator: 'Let Mr. Muell...  ...  Senior U.S. Republican senator: 'Let Mr. Muell...\n",
              "3      FBI Russia probe helped by Australian diplomat...  ...  FBI Russia probe helped by Australian diplomat...\n",
              "4      Trump wants Postal Service to charge 'much mor...  ...  Trump wants Postal Service to charge 'much mor...\n",
              "...                                                  ...  ...                                                ...\n",
              "44893  McPain: John McCain Furious That Iran Treated ...  ...  McPain: John McCain Furious That Iran Treated ...\n",
              "44894  JUSTICE? Yahoo Settles E-mail Privacy Class-ac...  ...  JUSTICE? Yahoo Settles E-mail Privacy Class-ac...\n",
              "44895  Sunnistan: US and Allied ‘Safe Zone’ Plan to T...  ...  Sunnistan: US and Allied ‘Safe Zone’ Plan to T...\n",
              "44896  How to Blow $700 Million: Al Jazeera America F...  ...  How to Blow $700 Million: Al Jazeera America F...\n",
              "44897  10 U.S. Navy Sailors Held by Iranian Military ...  ...  10 U.S. Navy Sailors Held by Iranian Military ...\n",
              "\n",
              "[44898 rows x 3 columns]"
            ],
            "text/html": [
              "\n",
              "  <div id=\"df-2c89c6fc-7703-4896-9e78-0c852bbf71da\" class=\"colab-df-container\">\n",
              "    <div>\n",
              "<style scoped>\n",
              "    .dataframe tbody tr th:only-of-type {\n",
              "        vertical-align: middle;\n",
              "    }\n",
              "\n",
              "    .dataframe tbody tr th {\n",
              "        vertical-align: top;\n",
              "    }\n",
              "\n",
              "    .dataframe thead th {\n",
              "        text-align: right;\n",
              "    }\n",
              "</style>\n",
              "<table border=\"1\" class=\"dataframe\">\n",
              "  <thead>\n",
              "    <tr style=\"text-align: right;\">\n",
              "      <th></th>\n",
              "      <th>title</th>\n",
              "      <th>text</th>\n",
              "      <th>news</th>\n",
              "    </tr>\n",
              "  </thead>\n",
              "  <tbody>\n",
              "    <tr>\n",
              "      <th>0</th>\n",
              "      <td>As U.S. budget fight looms, Republicans flip t...</td>\n",
              "      <td>WASHINGTON (Reuters) - The head of a conservat...</td>\n",
              "      <td>As U.S. budget fight looms, Republicans flip t...</td>\n",
              "    </tr>\n",
              "    <tr>\n",
              "      <th>1</th>\n",
              "      <td>U.S. military to accept transgender recruits o...</td>\n",
              "      <td>WASHINGTON (Reuters) - Transgender people will...</td>\n",
              "      <td>U.S. military to accept transgender recruits o...</td>\n",
              "    </tr>\n",
              "    <tr>\n",
              "      <th>2</th>\n",
              "      <td>Senior U.S. Republican senator: 'Let Mr. Muell...</td>\n",
              "      <td>WASHINGTON (Reuters) - The special counsel inv...</td>\n",
              "      <td>Senior U.S. Republican senator: 'Let Mr. Muell...</td>\n",
              "    </tr>\n",
              "    <tr>\n",
              "      <th>3</th>\n",
              "      <td>FBI Russia probe helped by Australian diplomat...</td>\n",
              "      <td>WASHINGTON (Reuters) - Trump campaign adviser ...</td>\n",
              "      <td>FBI Russia probe helped by Australian diplomat...</td>\n",
              "    </tr>\n",
              "    <tr>\n",
              "      <th>4</th>\n",
              "      <td>Trump wants Postal Service to charge 'much mor...</td>\n",
              "      <td>SEATTLE/WASHINGTON (Reuters) - President Donal...</td>\n",
              "      <td>Trump wants Postal Service to charge 'much mor...</td>\n",
              "    </tr>\n",
              "    <tr>\n",
              "      <th>...</th>\n",
              "      <td>...</td>\n",
              "      <td>...</td>\n",
              "      <td>...</td>\n",
              "    </tr>\n",
              "    <tr>\n",
              "      <th>44893</th>\n",
              "      <td>McPain: John McCain Furious That Iran Treated ...</td>\n",
              "      <td>21st Century Wire says As 21WIRE reported earl...</td>\n",
              "      <td>McPain: John McCain Furious That Iran Treated ...</td>\n",
              "    </tr>\n",
              "    <tr>\n",
              "      <th>44894</th>\n",
              "      <td>JUSTICE? Yahoo Settles E-mail Privacy Class-ac...</td>\n",
              "      <td>21st Century Wire says It s a familiar theme. ...</td>\n",
              "      <td>JUSTICE? Yahoo Settles E-mail Privacy Class-ac...</td>\n",
              "    </tr>\n",
              "    <tr>\n",
              "      <th>44895</th>\n",
              "      <td>Sunnistan: US and Allied ‘Safe Zone’ Plan to T...</td>\n",
              "      <td>Patrick Henningsen  21st Century WireRemember ...</td>\n",
              "      <td>Sunnistan: US and Allied ‘Safe Zone’ Plan to T...</td>\n",
              "    </tr>\n",
              "    <tr>\n",
              "      <th>44896</th>\n",
              "      <td>How to Blow $700 Million: Al Jazeera America F...</td>\n",
              "      <td>21st Century Wire says Al Jazeera America will...</td>\n",
              "      <td>How to Blow $700 Million: Al Jazeera America F...</td>\n",
              "    </tr>\n",
              "    <tr>\n",
              "      <th>44897</th>\n",
              "      <td>10 U.S. Navy Sailors Held by Iranian Military ...</td>\n",
              "      <td>21st Century Wire says As 21WIRE predicted in ...</td>\n",
              "      <td>10 U.S. Navy Sailors Held by Iranian Military ...</td>\n",
              "    </tr>\n",
              "  </tbody>\n",
              "</table>\n",
              "<p>44898 rows × 3 columns</p>\n",
              "</div>\n",
              "    <div class=\"colab-df-buttons\">\n",
              "\n",
              "  <div class=\"colab-df-container\">\n",
              "    <button class=\"colab-df-convert\" onclick=\"convertToInteractive('df-2c89c6fc-7703-4896-9e78-0c852bbf71da')\"\n",
              "            title=\"Convert this dataframe to an interactive table.\"\n",
              "            style=\"display:none;\">\n",
              "\n",
              "  <svg xmlns=\"http://www.w3.org/2000/svg\" height=\"24px\" viewBox=\"0 -960 960 960\">\n",
              "    <path d=\"M120-120v-720h720v720H120Zm60-500h600v-160H180v160Zm220 220h160v-160H400v160Zm0 220h160v-160H400v160ZM180-400h160v-160H180v160Zm440 0h160v-160H620v160ZM180-180h160v-160H180v160Zm440 0h160v-160H620v160Z\"/>\n",
              "  </svg>\n",
              "    </button>\n",
              "\n",
              "  <style>\n",
              "    .colab-df-container {\n",
              "      display:flex;\n",
              "      gap: 12px;\n",
              "    }\n",
              "\n",
              "    .colab-df-convert {\n",
              "      background-color: #E8F0FE;\n",
              "      border: none;\n",
              "      border-radius: 50%;\n",
              "      cursor: pointer;\n",
              "      display: none;\n",
              "      fill: #1967D2;\n",
              "      height: 32px;\n",
              "      padding: 0 0 0 0;\n",
              "      width: 32px;\n",
              "    }\n",
              "\n",
              "    .colab-df-convert:hover {\n",
              "      background-color: #E2EBFA;\n",
              "      box-shadow: 0px 1px 2px rgba(60, 64, 67, 0.3), 0px 1px 3px 1px rgba(60, 64, 67, 0.15);\n",
              "      fill: #174EA6;\n",
              "    }\n",
              "\n",
              "    .colab-df-buttons div {\n",
              "      margin-bottom: 4px;\n",
              "    }\n",
              "\n",
              "    [theme=dark] .colab-df-convert {\n",
              "      background-color: #3B4455;\n",
              "      fill: #D2E3FC;\n",
              "    }\n",
              "\n",
              "    [theme=dark] .colab-df-convert:hover {\n",
              "      background-color: #434B5C;\n",
              "      box-shadow: 0px 1px 3px 1px rgba(0, 0, 0, 0.15);\n",
              "      filter: drop-shadow(0px 1px 2px rgba(0, 0, 0, 0.3));\n",
              "      fill: #FFFFFF;\n",
              "    }\n",
              "  </style>\n",
              "\n",
              "    <script>\n",
              "      const buttonEl =\n",
              "        document.querySelector('#df-2c89c6fc-7703-4896-9e78-0c852bbf71da button.colab-df-convert');\n",
              "      buttonEl.style.display =\n",
              "        google.colab.kernel.accessAllowed ? 'block' : 'none';\n",
              "\n",
              "      async function convertToInteractive(key) {\n",
              "        const element = document.querySelector('#df-2c89c6fc-7703-4896-9e78-0c852bbf71da');\n",
              "        const dataTable =\n",
              "          await google.colab.kernel.invokeFunction('convertToInteractive',\n",
              "                                                    [key], {});\n",
              "        if (!dataTable) return;\n",
              "\n",
              "        const docLinkHtml = 'Like what you see? Visit the ' +\n",
              "          '<a target=\"_blank\" href=https://colab.research.google.com/notebooks/data_table.ipynb>data table notebook</a>'\n",
              "          + ' to learn more about interactive tables.';\n",
              "        element.innerHTML = '';\n",
              "        dataTable['output_type'] = 'display_data';\n",
              "        await google.colab.output.renderOutput(dataTable, element);\n",
              "        const docLink = document.createElement('div');\n",
              "        docLink.innerHTML = docLinkHtml;\n",
              "        element.appendChild(docLink);\n",
              "      }\n",
              "    </script>\n",
              "  </div>\n",
              "\n",
              "\n",
              "    <div id=\"df-5d84b8d1-d46d-4ccc-9133-aa6f58f938a2\">\n",
              "      <button class=\"colab-df-quickchart\" onclick=\"quickchart('df-5d84b8d1-d46d-4ccc-9133-aa6f58f938a2')\"\n",
              "                title=\"Suggest charts\"\n",
              "                style=\"display:none;\">\n",
              "\n",
              "<svg xmlns=\"http://www.w3.org/2000/svg\" height=\"24px\"viewBox=\"0 0 24 24\"\n",
              "     width=\"24px\">\n",
              "    <g>\n",
              "        <path d=\"M19 3H5c-1.1 0-2 .9-2 2v14c0 1.1.9 2 2 2h14c1.1 0 2-.9 2-2V5c0-1.1-.9-2-2-2zM9 17H7v-7h2v7zm4 0h-2V7h2v10zm4 0h-2v-4h2v4z\"/>\n",
              "    </g>\n",
              "</svg>\n",
              "      </button>\n",
              "\n",
              "<style>\n",
              "  .colab-df-quickchart {\n",
              "      --bg-color: #E8F0FE;\n",
              "      --fill-color: #1967D2;\n",
              "      --hover-bg-color: #E2EBFA;\n",
              "      --hover-fill-color: #174EA6;\n",
              "      --disabled-fill-color: #AAA;\n",
              "      --disabled-bg-color: #DDD;\n",
              "  }\n",
              "\n",
              "  [theme=dark] .colab-df-quickchart {\n",
              "      --bg-color: #3B4455;\n",
              "      --fill-color: #D2E3FC;\n",
              "      --hover-bg-color: #434B5C;\n",
              "      --hover-fill-color: #FFFFFF;\n",
              "      --disabled-bg-color: #3B4455;\n",
              "      --disabled-fill-color: #666;\n",
              "  }\n",
              "\n",
              "  .colab-df-quickchart {\n",
              "    background-color: var(--bg-color);\n",
              "    border: none;\n",
              "    border-radius: 50%;\n",
              "    cursor: pointer;\n",
              "    display: none;\n",
              "    fill: var(--fill-color);\n",
              "    height: 32px;\n",
              "    padding: 0;\n",
              "    width: 32px;\n",
              "  }\n",
              "\n",
              "  .colab-df-quickchart:hover {\n",
              "    background-color: var(--hover-bg-color);\n",
              "    box-shadow: 0 1px 2px rgba(60, 64, 67, 0.3), 0 1px 3px 1px rgba(60, 64, 67, 0.15);\n",
              "    fill: var(--button-hover-fill-color);\n",
              "  }\n",
              "\n",
              "  .colab-df-quickchart-complete:disabled,\n",
              "  .colab-df-quickchart-complete:disabled:hover {\n",
              "    background-color: var(--disabled-bg-color);\n",
              "    fill: var(--disabled-fill-color);\n",
              "    box-shadow: none;\n",
              "  }\n",
              "\n",
              "  .colab-df-spinner {\n",
              "    border: 2px solid var(--fill-color);\n",
              "    border-color: transparent;\n",
              "    border-bottom-color: var(--fill-color);\n",
              "    animation:\n",
              "      spin 1s steps(1) infinite;\n",
              "  }\n",
              "\n",
              "  @keyframes spin {\n",
              "    0% {\n",
              "      border-color: transparent;\n",
              "      border-bottom-color: var(--fill-color);\n",
              "      border-left-color: var(--fill-color);\n",
              "    }\n",
              "    20% {\n",
              "      border-color: transparent;\n",
              "      border-left-color: var(--fill-color);\n",
              "      border-top-color: var(--fill-color);\n",
              "    }\n",
              "    30% {\n",
              "      border-color: transparent;\n",
              "      border-left-color: var(--fill-color);\n",
              "      border-top-color: var(--fill-color);\n",
              "      border-right-color: var(--fill-color);\n",
              "    }\n",
              "    40% {\n",
              "      border-color: transparent;\n",
              "      border-right-color: var(--fill-color);\n",
              "      border-top-color: var(--fill-color);\n",
              "    }\n",
              "    60% {\n",
              "      border-color: transparent;\n",
              "      border-right-color: var(--fill-color);\n",
              "    }\n",
              "    80% {\n",
              "      border-color: transparent;\n",
              "      border-right-color: var(--fill-color);\n",
              "      border-bottom-color: var(--fill-color);\n",
              "    }\n",
              "    90% {\n",
              "      border-color: transparent;\n",
              "      border-bottom-color: var(--fill-color);\n",
              "    }\n",
              "  }\n",
              "</style>\n",
              "\n",
              "      <script>\n",
              "        async function quickchart(key) {\n",
              "          const quickchartButtonEl =\n",
              "            document.querySelector('#' + key + ' button');\n",
              "          quickchartButtonEl.disabled = true;  // To prevent multiple clicks.\n",
              "          quickchartButtonEl.classList.add('colab-df-spinner');\n",
              "          try {\n",
              "            const charts = await google.colab.kernel.invokeFunction(\n",
              "                'suggestCharts', [key], {});\n",
              "          } catch (error) {\n",
              "            console.error('Error during call to suggestCharts:', error);\n",
              "          }\n",
              "          quickchartButtonEl.classList.remove('colab-df-spinner');\n",
              "          quickchartButtonEl.classList.add('colab-df-quickchart-complete');\n",
              "        }\n",
              "        (() => {\n",
              "          let quickchartButtonEl =\n",
              "            document.querySelector('#df-5d84b8d1-d46d-4ccc-9133-aa6f58f938a2 button');\n",
              "          quickchartButtonEl.style.display =\n",
              "            google.colab.kernel.accessAllowed ? 'block' : 'none';\n",
              "        })();\n",
              "      </script>\n",
              "    </div>\n",
              "\n",
              "  <div id=\"id_40fd7cf5-2ee5-475f-aa21-18d7ec982b23\">\n",
              "    <style>\n",
              "      .colab-df-generate {\n",
              "        background-color: #E8F0FE;\n",
              "        border: none;\n",
              "        border-radius: 50%;\n",
              "        cursor: pointer;\n",
              "        display: none;\n",
              "        fill: #1967D2;\n",
              "        height: 32px;\n",
              "        padding: 0 0 0 0;\n",
              "        width: 32px;\n",
              "      }\n",
              "\n",
              "      .colab-df-generate:hover {\n",
              "        background-color: #E2EBFA;\n",
              "        box-shadow: 0px 1px 2px rgba(60, 64, 67, 0.3), 0px 1px 3px 1px rgba(60, 64, 67, 0.15);\n",
              "        fill: #174EA6;\n",
              "      }\n",
              "\n",
              "      [theme=dark] .colab-df-generate {\n",
              "        background-color: #3B4455;\n",
              "        fill: #D2E3FC;\n",
              "      }\n",
              "\n",
              "      [theme=dark] .colab-df-generate:hover {\n",
              "        background-color: #434B5C;\n",
              "        box-shadow: 0px 1px 3px 1px rgba(0, 0, 0, 0.15);\n",
              "        filter: drop-shadow(0px 1px 2px rgba(0, 0, 0, 0.3));\n",
              "        fill: #FFFFFF;\n",
              "      }\n",
              "    </style>\n",
              "    <button class=\"colab-df-generate\" onclick=\"generateWithVariable('x')\"\n",
              "            title=\"Generate code using this dataframe.\"\n",
              "            style=\"display:none;\">\n",
              "\n",
              "  <svg xmlns=\"http://www.w3.org/2000/svg\" height=\"24px\"viewBox=\"0 0 24 24\"\n",
              "       width=\"24px\">\n",
              "    <path d=\"M7,19H8.4L18.45,9,17,7.55,7,17.6ZM5,21V16.75L18.45,3.32a2,2,0,0,1,2.83,0l1.4,1.43a1.91,1.91,0,0,1,.58,1.4,1.91,1.91,0,0,1-.58,1.4L9.25,21ZM18.45,9,17,7.55Zm-12,3A5.31,5.31,0,0,0,4.9,8.1,5.31,5.31,0,0,0,1,6.5,5.31,5.31,0,0,0,4.9,4.9,5.31,5.31,0,0,0,6.5,1,5.31,5.31,0,0,0,8.1,4.9,5.31,5.31,0,0,0,12,6.5,5.46,5.46,0,0,0,6.5,12Z\"/>\n",
              "  </svg>\n",
              "    </button>\n",
              "    <script>\n",
              "      (() => {\n",
              "      const buttonEl =\n",
              "        document.querySelector('#id_40fd7cf5-2ee5-475f-aa21-18d7ec982b23 button.colab-df-generate');\n",
              "      buttonEl.style.display =\n",
              "        google.colab.kernel.accessAllowed ? 'block' : 'none';\n",
              "\n",
              "      buttonEl.onclick = () => {\n",
              "        google.colab.notebook.generateWithVariable('x');\n",
              "      }\n",
              "      })();\n",
              "    </script>\n",
              "  </div>\n",
              "\n",
              "    </div>\n",
              "  </div>\n"
            ],
            "application/vnd.google.colaboratory.intrinsic+json": {
              "type": "dataframe",
              "variable_name": "x",
              "summary": "{\n  \"name\": \"x\",\n  \"rows\": 44898,\n  \"fields\": [\n    {\n      \"column\": \"title\",\n      \"properties\": {\n        \"dtype\": \"string\",\n        \"num_unique_values\": 38729,\n        \"samples\": [\n          \" TransCanada Officially Files $15 Billion Lawsuit Against U.S. For Rejecting KXL Pipline\",\n          \"Trump accuses Mexico's Carlos Slim of trying to help Clinton\",\n          \"White House defends portrayal of 'armada' push toward Korean peninsula\"\n        ],\n        \"semantic_type\": \"\",\n        \"description\": \"\"\n      }\n    },\n    {\n      \"column\": \"text\",\n      \"properties\": {\n        \"dtype\": \"string\",\n        \"num_unique_values\": 38646,\n        \"samples\": [\n          \"Here s the fake black guy, Shaun King weighing in on how awesome it is that Bernie Sanders can now come out of the socialist closet. Because America is soooo ready (or so Shaun thinks anyhow) to embrace a socialist. Here is his tweet:#1.https://twitter.com/ShaunKing/status/654100720929632256Here is a great question from the Janie Johnson:#2.The bottom 49% of earners pay zero taxes   how much more  fair  do you want the tax system? #DemDebate  Janie Johnson (@jjauthor) October 14, 2015Truth!#3.https://twitter.com/weknowwhatsbest/status/654128633385107456And this tweet is priceless:#4.https://twitter.com/weknowwhatsbest/status/654128132295802880Some race baiters were not satisfied that enough divisive questions were posed to the candidates. How much time exactly should we giving to the issue of race during our presidential debates? Would 50% of the debate time be acceptable to the #BlackLivesMatter terrorists?The first is from #BLM activist and George Soros favorite, Deray McKesson:#5..@AndersonCooper, you were strong tonight, though I hope there are more questions about race at the next debate. #DemDebate  deray mckesson (@deray) October 14, 2015Next is from the fake black guy, Shaun King who bemoans the lack of diversity on the debate stage:#6 and #7https://twitter.com/ShaunKing/status/654095075069296640https://twitter.com/ShaunKing/status/654113225005510656And then we have the self proclaimed  Trump girls,  Diamond and Silk weighing in on the debate hilarious!#8.We out. This is not a debate. This is a disgrace. Hope .@realDonaldTrump come to save the day. #stump4trumpbaby pic.twitter.com/I1CcLL31lX  Diamond and Silk  (@DiamondandSilk) October 14, 2015Best tweet of the night goes to the Donald:#9\\\"@releafpen: Dem debate message summary = More free handouts. They will be voting in droves. We need to get out and vote Trump BIG TIME!\\\"  Donald J. Trump (@realDonaldTrump) October 14, 2015And the runners-up are Two from conservative actor James Woods:#10.Thank God money grows on trees. This bunch has no allergy to spending it. Free college not only for Americans, but anybody from anywhere  James Woods (@RealJamesWoods) October 14, 2015We actually fibbed, there are 12 favorite tweets. We save 2 of our favorites from @iowahawk for last:I got 10 bucks that more people are following the debate on Trump's Twitter feed than on CNN  David Burge (@iowahawkblog) October 14, 2015How to make college affordable: don't go  David Burge (@iowahawkblog) October 14, 2015 \",\n          \"While Trump s Secretary of State was visiting a UN base on the border of North and South Korea on Friday, the former CEO of Exxon Mobil Corp. was photographed by a Reuters photographer, while at the same time, a North Korean soldier is seen photographing the top Diplomat covertly from the outside of a window. You can t make this stuff up. And now the picture is circulating on social media.In the image, a North Korean soldier can be seen on the right-hand corner of the picture peering in through a window and photographing Tillerson and a US Army general, Business Insider reports.The photo was taken inside the Demilitarized Zone (DMZ), which was created after the Korean War on what is now the most heavily armed border in the world, and obviously the most spied upon.NBC reporter Brad Jaffy tweeted out a version of the photo, which he zoomed in on, calling it  Rear Window. Rear Window: North Korean soldier takes a photo of Rex Tillerson at the DMZ pic.twitter.com/EHCIR3Fjo6  Bradd Jaffy (@BraddJaffy) March 17, 2017The original photo can be seen here.Tillerson announced on Friday at a news conference in Seoul that military action against North Korea is  an option  if the threat from its nuclear weapons program rises to a level  that we believe requires action. Tillerson told reporters that  all of the options are on the table. According to the Korea Herald, Tillerson cut his recent visit short with South Korean officials due to  fatigue. The newspaper reported that Tillerson did not have lunch or dinner with South Korean Foreign Minister Yun Byung-se and acting President and Prime Minister Hwang Kyo-ahn during his visit there.Tillerson spent several hours meeting with Japanese officials, which included dinner meetings, the paper noted, according to The Hill.The secretary of State reportedly did hold talks with both South Korean officials regarding the threat posed by North Korea s nuclear program.And that must have been before  fatigue  set in. On Twitter, Trump said that North Korea was  behaving very badly. South Korea s Constitutional Court upheld the impeachment of former President Park Geun-hye in March over a corruption scandal. In contrast, the U.S. has failed to address its newly minted president s growing list of scandals. Tillerson, too, has his own scandal to deal with.As for the North Korean soldier spying on Tillerson, perhaps if he wore spy glasses and a fake mustache no one would have noticed. The soldier has better access to the Secretary of State than U.S. reporters do.Photo by Alex Wong/Getty Images.\",\n          \"Join Patrick every week here at 21WIRE.TV for news, views and analysis on all top stories domestically and abroad THIS WEEK: Episode 4 The New World Order  Did Great Britain regain control of its former American colonies by stealth? From Cecil Rhodes and his Round Table, to H.G. Wells, to Henry Kissinger and Zbigniew Brzezinski   many have worked to steer the world beyond the modern nation state and into Technetronic Era of global government. But to what end?Host Patrick Henningsen talks to Sean Stone, author of the new book, New World Order: A Strategy for Imperialism. Listen:   END 927 Download Link  START 999 Download Link Download this podcast  END 999 Download Link This program broadcasts LIVE every Wednesday night from 8pm to 9pm MST, right after the Savage Nation, on Independent Talk 1100 KFNX over the terrestrial AM band across the greater Phoenix and central Arizona region, and live over global satellite and online via www.1100kfnx.com.READ MORE NWO NEWS AT: 21st Century Wire NWO Files\"\n        ],\n        \"semantic_type\": \"\",\n        \"description\": \"\"\n      }\n    },\n    {\n      \"column\": \"news\",\n      \"properties\": {\n        \"dtype\": \"string\",\n        \"num_unique_values\": 39105,\n        \"samples\": [\n          \" This Church Treasurer Is Going To Jail For A Crime Spree That Blows The Lie Of \\u2018Christian Morality\\u2019 Apart (VIDEO)A church treasurer from Ohio is going to jail for five years after blowing $800,000 of church funds on a decade-long drugs and sex rampage. So much for that  Christian Morality  that Evangelicals argue makes them better than people of other faiths and none.61-year-old Garry Meyer was the trusted treasurer of Tri-County Baptist Church in West Chester Township, Ohio for 14 years. What his church did not know, is that he was actually cooking the books, spending nearly a million dollars of church money on drugs, lavish holidays, expensive cars, pornography and  high end  escorts for more than a decade.While maintaining the pretense of a god-fearing, responsible, married father, Meyer lived a rock star lifestyle on the side   and his church community picked up the tab.But, sadly for Meyer, his wife uncovered the crime. Under pressure, he made a confession to the church. The only problem was, he  confessed  to stealing $400,000. Once the full investigation was complete, Meyer was exposed as a liar all over again. The full sum stolen was twice that figure.Meyer s wife sobbed in the courtroom as her husband s exploits were exposed, and he was sentenced to five years in prison. He told the court: There is no excuse for my actions, I also want to say I am sorry to my family. I have caused unimaginable hurt and suffering, Turning to his wife, Meyer said: I am sorry for betraying your trust   you have always been the best part of my life. Meyer stole nearly a million dollars from his own congregation in order to fund a lifestyle to which his church is supposed to stand opposed. Also speaking at Meyer s sentancing hearing was colleague Pastor Brian McManus, who said: Our church family has continued to pray for everyone involved in this very sad event. The truth is, our life choices always come down to personal   not religious   morality. A person bent on making the wrong decisions in life, will do so with or without the bible. This lesson is everywhere   from child-abusing priests, to chumps like Garry Meyer, and on to so-called Christian Conservative leaders who lay the sin of wrath upon anyone who fails to follow their warped Ayn Randian version of God.Featured image via video screen capture\",\n          \"SENATOR FEINSTEIN Shocks CNN Anchor With \\u201cPrecise Answer\\u201d On Trump/Russia Smear Campaign [Video]What s all the fuss about if there s no there, there? Is anyone else sickened by the left s efforts to discredit President Trump for months when they knew there was NOTHING THERE!Feinstein had visited CIA headquarters on Tuesday and was briefed on the investigation but months before this we all knew the truth It s just that Feinstein finally admitted it:  Not at this time NOT AT THIS TIME???The Democrats owe President Trump the BIGGEST apology!THE FOLLOWING COMMENT EXPRESSES HOW AMERICA FEELS ABOUT FEINSTEIN AND HER CRONIES: It s been hundreds of days since the  Russian  smear campaign conducted by MSM, democrat operative morons like Olbermann and late night  comedians , and Clintons political cronies   and yet still nothing. Nothing. Not a single thing. A few more months and then they will quietly say  case closed  and hope and pray that we all forgot. Sorry but we won t and we watch you all very differently now, we see right through you. Our patience is just about out and your time handling our power is up. FEINSTEIN EMBARRASES HERSELF DURING QUESTIONING TO NEIL GORSUCH:Senator Dianne Feinstein is no match for Supreme Court nominee Neil Gorsuch. In her questioning today she really made a fool of herself when she tossed out a question that made it clear she hadn t done her homework on Gorsuch. He answered her question by citing numerous specific cases in his legal history. It s understandable that the Democrats are trying to play to their base by dragging out the process of asking ridiculous questions of this perfect nominee for the SCOTUS. This is embarrassing and we have two more days of it! It seems this is backfiring on the Democrats RETIRE ALREADY!\",\n          \"Hillary Clinton Supporters Now Calling for a Recount of Votes in Battleground States The person who received the most votes free from interference or tampering needs to be in the White House. It may well be Donald J. Trump, but further due diligence is required to ensure that American democracy is not threatened. 21st Century Wire says Although the election was called on Nov 8th, the Democratic Party s ongoing campaign to delegitimize the new incoming President is still ongoing. For those of us with long enough memories, the Democratic Party, their media operatives and the Clinton Campaign were claiming that Trump and the GOP would be engaged in this very same behavior after Hillary Clinton won the Presidency (as expected).Notice how the shoe is now on the other foot.It s interesting reading past stories by  news  sources linked to the Clinton Campaign and John Podesta as Politico has, who ran a feature on Aug 16th entitled,  Why the GOP Will Never Accept President Hillary Clinton  which lays out the case of Hillary s lock on the White House and how the evil Republicans will not accept her eventual election victory. Will Donald Trump respect the peaceful transition of power?  howled CNN s Wolf Blitzer in the run-up to the election. The question now is: will the Democrats respect the result, and simply  Move On,  as they say?Of course, we now know that  journalists  like Wolf at CNN were getting their talking points directly the Clinton Campaign.As it turns out, the only thing illegitimate about the 2016 Election  was the mainstream corporate media. More form the Guardian  John Swane The GuardianA growing number of academics and activists are calling for US authorities to fully audit or recount the 2016 presidential election vote in key battleground states, in case the results could have been skewed by foreign hackers.The loose coalition, which is urging Hillary Clinton s campaign to join its fight, is preparing to deliver a report detailing its concerns to congressional committee chairs and federal authorities early next week, according to two people involved.The document, which is currently 18 pages long, focuses on concerns about the results in the states of Michigan, Pennsylvania and Wisconsin. I m interested in verifying the vote,  said Dr Barbara Simons, an adviser to the US election assistance commission and expert on electronic voting.  We need to have post-election ballot audits.  Simons is understood to have contributed analysis to the effort but declined to characterise the precise nature of her involvement.A second group of analysts, led by the National Voting Rights Institute founder John Bonifaz and Professor Alex Halderman, the director of the University of Michigan s center for computer security and society, is also taking part in the push for a review, and has been in contact with Simons.In a blogpost early on Wednesday, Halderman said paper ballots and voting equipment should be examined in Wisconsin, Michigan, and Pennsylvania, warning that deadlines were rapidly approaching. Unfortunately, nobody is ever going to examine that evidence unless candidates in those states act now, in the next several days, to petition for recounts,  he said.The developments follow Clinton s surprise defeat to Donald Trump in the 8 November vote, and come after US intelligence authorities released public assessments that Russian hackers were behind intrusions into regional electoral computer systems and the theft of emails from Democratic officials before the election Continue this article at The GuardianREAD MORE ELECTION NEWS AT: 21st Century Wire 2016 Files \"\n        ],\n        \"semantic_type\": \"\",\n        \"description\": \"\"\n      }\n    }\n  ]\n}"
            }
          },
          "metadata": {},
          "execution_count": 73
        }
      ]
    },
    {
      "cell_type": "code",
      "source": [
        "y"
      ],
      "metadata": {
        "colab": {
          "base_uri": "https://localhost:8080/",
          "height": 458
        },
        "id": "O-jfNxrH9xwS",
        "outputId": "4dff7bbf-b4f6-47f3-ae10-464c84ffd2e6"
      },
      "execution_count": null,
      "outputs": [
        {
          "output_type": "execute_result",
          "data": {
            "text/plain": [
              "0        1\n",
              "1        1\n",
              "2        1\n",
              "3        1\n",
              "4        1\n",
              "        ..\n",
              "44893    0\n",
              "44894    0\n",
              "44895    0\n",
              "44896    0\n",
              "44897    0\n",
              "Name: label, Length: 44898, dtype: int64"
            ],
            "text/html": [
              "<div>\n",
              "<style scoped>\n",
              "    .dataframe tbody tr th:only-of-type {\n",
              "        vertical-align: middle;\n",
              "    }\n",
              "\n",
              "    .dataframe tbody tr th {\n",
              "        vertical-align: top;\n",
              "    }\n",
              "\n",
              "    .dataframe thead th {\n",
              "        text-align: right;\n",
              "    }\n",
              "</style>\n",
              "<table border=\"1\" class=\"dataframe\">\n",
              "  <thead>\n",
              "    <tr style=\"text-align: right;\">\n",
              "      <th></th>\n",
              "      <th>label</th>\n",
              "    </tr>\n",
              "  </thead>\n",
              "  <tbody>\n",
              "    <tr>\n",
              "      <th>0</th>\n",
              "      <td>1</td>\n",
              "    </tr>\n",
              "    <tr>\n",
              "      <th>1</th>\n",
              "      <td>1</td>\n",
              "    </tr>\n",
              "    <tr>\n",
              "      <th>2</th>\n",
              "      <td>1</td>\n",
              "    </tr>\n",
              "    <tr>\n",
              "      <th>3</th>\n",
              "      <td>1</td>\n",
              "    </tr>\n",
              "    <tr>\n",
              "      <th>4</th>\n",
              "      <td>1</td>\n",
              "    </tr>\n",
              "    <tr>\n",
              "      <th>...</th>\n",
              "      <td>...</td>\n",
              "    </tr>\n",
              "    <tr>\n",
              "      <th>44893</th>\n",
              "      <td>0</td>\n",
              "    </tr>\n",
              "    <tr>\n",
              "      <th>44894</th>\n",
              "      <td>0</td>\n",
              "    </tr>\n",
              "    <tr>\n",
              "      <th>44895</th>\n",
              "      <td>0</td>\n",
              "    </tr>\n",
              "    <tr>\n",
              "      <th>44896</th>\n",
              "      <td>0</td>\n",
              "    </tr>\n",
              "    <tr>\n",
              "      <th>44897</th>\n",
              "      <td>0</td>\n",
              "    </tr>\n",
              "  </tbody>\n",
              "</table>\n",
              "<p>44898 rows × 1 columns</p>\n",
              "</div><br><label><b>dtype:</b> int64</label>"
            ]
          },
          "metadata": {},
          "execution_count": 74
        }
      ]
    },
    {
      "cell_type": "markdown",
      "source": [
        "stemming is the process of reducing a words to its root"
      ],
      "metadata": {
        "id": "JQUQGBP2_paC"
      }
    },
    {
      "cell_type": "markdown",
      "source": [
        "we used tqdm so that we can see the progress bar\n"
      ],
      "metadata": {
        "id": "z-OlNt7HHkLG"
      }
    },
    {
      "cell_type": "code",
      "source": [
        "stem=PorterStemmer()\n",
        "from tqdm.auto import tqdm\n",
        "tqdm.pandas()  # Register tqdm with pandas\n",
        "\n"
      ],
      "metadata": {
        "id": "gSbWvCLy-LaL"
      },
      "execution_count": null,
      "outputs": []
    },
    {
      "cell_type": "code",
      "source": [
        "def stemming(content):\n",
        "  stop_words = set(stopwords.words('english'))\n",
        "  stemmed_content=re.sub('[^a-zA-Z]',' ',content) #to remove all non-alphabetic items\n",
        "  stemmed_content=stemmed_content.lower() #lowercase\n",
        "  stemmed_content=stemmed_content.split() #to split data in list\n",
        "\n",
        "  stemmed_content=[stem.stem(word) for word in stemmed_content  if  word not in   stop_words]  #if word isnt in stop_words then it stems it\n",
        "  stemmed_content=' '.join(stemmed_content) #joins all the stemmed words\n",
        "  return stemmed_content\n"
      ],
      "metadata": {
        "id": "VBNWUFze_5Pr"
      },
      "execution_count": null,
      "outputs": []
    },
    {
      "cell_type": "code",
      "source": [
        "\n",
        "new_df['news'] = new_df['news'].progress_apply(stemming)\n"
      ],
      "metadata": {
        "colab": {
          "base_uri": "https://localhost:8080/",
          "height": 49,
          "referenced_widgets": [
            "bd6659c01e5042948f1d93bea583fd81",
            "f01624e57a5f41ee979b89c5af9cfbda",
            "5606755e26254b1d979dd91c6dd45fd1",
            "f5e6bcbee84e4f11b613873f8d233ee5",
            "adf918a70f094b099ac5f454cdc5949f",
            "9def481b909b4a47aa1000fd32465399",
            "3ac09a9f059646639d0b78089c196b42",
            "a0994d91227648488b728bf95077ff4a",
            "5f0346069fe54bdc93a19304017e6662",
            "c994e9f17e284c31a040c04919d0090f",
            "ba514a2a50644e83867594a14c1c4d42"
          ]
        },
        "id": "5Cr9ur3CCOVb",
        "outputId": "28b9b82e-67f4-4179-b9b8-015d9297c38e"
      },
      "execution_count": null,
      "outputs": [
        {
          "output_type": "display_data",
          "data": {
            "text/plain": [
              "  0%|          | 0/44898 [00:00<?, ?it/s]"
            ],
            "application/vnd.jupyter.widget-view+json": {
              "version_major": 2,
              "version_minor": 0,
              "model_id": "bd6659c01e5042948f1d93bea583fd81"
            }
          },
          "metadata": {}
        }
      ]
    },
    {
      "cell_type": "code",
      "source": [
        "print(new_df['news'])"
      ],
      "metadata": {
        "colab": {
          "base_uri": "https://localhost:8080/"
        },
        "id": "8DOwLc9QC_Y5",
        "outputId": "3c10aa5b-765a-41ec-aa35-f0f7822feaff"
      },
      "execution_count": null,
      "outputs": [
        {
          "output_type": "stream",
          "name": "stdout",
          "text": [
            "0        u budget fight loom republican flip fiscal scr...\n",
            "1        u militari accept transgend recruit monday pen...\n",
            "2        senior u republican senat let mr mueller job w...\n",
            "3        fbi russia probe help australian diplomat tip ...\n",
            "4        trump want postal servic charg much amazon shi...\n",
            "                               ...                        \n",
            "44893    mcpain john mccain furiou iran treat us sailor...\n",
            "44894    justic yahoo settl e mail privaci class action...\n",
            "44895    sunnistan us alli safe zone plan take territor...\n",
            "44896    blow million al jazeera america final call qui...\n",
            "44897    u navi sailor held iranian militari sign neoco...\n",
            "Name: news, Length: 44898, dtype: object\n"
          ]
        }
      ]
    },
    {
      "cell_type": "code",
      "source": [
        "x=new_df['news'].values\n",
        "y=new_df['label'].values"
      ],
      "metadata": {
        "id": "by2uXzvLEeD3"
      },
      "execution_count": null,
      "outputs": []
    },
    {
      "cell_type": "code",
      "source": [
        "x"
      ],
      "metadata": {
        "colab": {
          "base_uri": "https://localhost:8080/"
        },
        "id": "O1SpgYVuHV9d",
        "outputId": "f065090c-faa6-48fb-f50c-c5fc30c5c5f2"
      },
      "execution_count": null,
      "outputs": [
        {
          "output_type": "execute_result",
          "data": {
            "text/plain": [
              "array(['u budget fight loom republican flip fiscal scriptwashington reuter head conserv republican faction u congress vote month huge expans nation debt pay tax cut call fiscal conserv sunday urg budget restraint keep sharp pivot way among republican u repres mark meadow speak cb face nation drew hard line feder spend lawmak brace battl januari return holiday wednesday lawmak begin tri pass feder budget fight like link issu immigr polici even novemb congression elect campaign approach republican seek keep control congress presid donald trump republican want big budget increas militari spend democrat also want proport increas non defens discretionari spend program support educ scientif research infrastructur public health environment protect trump administr alreadi will say go increas non defens discretionari spend percent meadow chairman small influenti hous freedom caucu said program democrat say enough need give govern pay rais percent fiscal conserv see rational eventu run peopl money said meadow among republican vote late decemb parti debt financ tax overhaul expect balloon feder budget deficit add trillion year trillion nation debt interest hear mark talk fiscal respons democrat u repres joseph crowley said cb crowley said republican tax bill would requir unit state borrow trillion paid futur gener financ tax cut corpor rich one least fiscal respons bill ever seen pass histori hous repres think go pay mani mani year come crowley said republican insist tax packag biggest u tax overhaul year boost economi job growth hous speaker paul ryan also support tax bill recent went meadow make clear radio interview welfar entitl reform parti often call would top republican prioriti republican parlanc entitl program mean food stamp hous assist medicar medicaid health insur elderli poor disabl well program creat washington assist needi democrat seiz ryan earli decemb remark say show republican would tri pay tax overhaul seek spend cut social program goal hous republican may take back seat senat vote democrat need approv budget prevent govern shutdown democrat use leverag senat republican narrowli control defend discretionari non defens program social spend tackl issu dreamer peopl brought illeg countri children trump septemb put march expir date defer action childhood arriv daca program protect young immigr deport provid work permit presid said recent twitter messag want fund propos mexican border wall immigr law chang exchang agre help dreamer repres debbi dingel told cb favor link issu polici object wall fund need daca clean said wednesday trump aid meet congression leader discuss issu follow weekend strategi session trump republican leader jan white hous said trump also schedul meet sunday florida republican governor rick scott want emerg aid hous pass billion aid packag hurrican florida texa puerto rico wildfir california packag far exceed billion request trump administr senat yet vote aid',\n",
              "       'u militari accept transgend recruit monday pentagonwashington reuter transgend peopl allow first time enlist u militari start monday order feder court pentagon said friday presid donald trump administr decid appeal rule block transgend ban two feder appeal court one washington one virginia last week reject administr request put hold order lower court judg requir militari begin accept transgend recruit jan justic depart offici said administr challeng rule depart defens announc releas independ studi issu come week rather litig interim appeal occur administr decid wait dod studi continu defend presid law author district court meantim offici said speak condit anonym septemb pentagon said creat panel senior offici studi implement direct trump prohibit transgend individu serv defens depart feb submit plan trump lawyer repres current serv transgend servic member aspir recruit said expect administr appeal rule conserv major suprem court hope would happen pentagon spokeswoman heather babb said statement mandat court order depart defens prepar begin access transgend applic militari servic jan applic must meet access standard jennif levi lawyer gay lesbian transgend advocaci group glad call decis appeal great news hope mean govern come see way justifi ban good militari countri levi said glad american civil liberti union repres plaintiff lawsuit file administr move appeal hard line conserv support trump announc juli would prohibit transgend peopl serv militari revers democrat presid barack obama polici accept trump said twitter time militari cannot burden tremend medic cost disrupt transgend militari would entail four feder judg baltimor washington c seattl riversid california issu rule block trump ban legal challeng republican presid polici proceed judg said ban would like violat right u constitut equal protect law pentagon dec issu guidelin recruit personnel order enlist transgend applic jan memo outlin medic requir specifi applic sex would identifi even undergar would wear trump administr previous said legal paper arm forc prepar train thousand personnel medic standard need process transgend applic might accept individu medic fit servic obama administr set deadlin juli begin accept transgend recruit trump defens secretari jame matti postpon date jan presid ban put indefinit trump taken step aim roll back transgend right octob administr said feder law ban gender base workplac discrimin protect transgend employe revers anoth obama era posit februari trump rescind guidanc issu obama administr say public school allow transgend student use restroom correspond gender ident',\n",
              "       'senior u republican senat let mr mueller job washington reuter special counsel investig link russia presid trump elect campaign continu without interfer despit call trump administr alli republican lawmak shut promin republican senat said sunday lindsey graham serv senat arm forc judiciari committe said depart justic special counsel robert mueller need carri russia investig without polit interfer investig go forward investig conduct without polit influenc graham said cb face nation news program need let mr mueller job think right guy right time question russia may interf elect trump campaign may link co ordin effort loom white hous sinc trump took offic januari show sign reced trump prepar second year power despit intensifi rhetor trump alli recent week accus mueller team bia republican presid trump seem undercut support interview last week new york time said expect mueller go fair russia role elect question possibl link trump campaign focu multipl inquiri washington three committe senat hous repres investig well mueller whose team may took earlier probe launch u feder bureau investig fbi sever member trump campaign administr convict indict investig trump alli deni collus russia campaign kremlin deni meddl elect graham said still want examin fbi use dossier link trump russia compil former british spi christoph steel prompt trump alli republican question mueller inquiri saturday new york time report dossier trigger earli fbi probe tip former trump campaign foreign polici advis georg papadopoulo australian diplomat russia damag inform former trump rival hillari clinton want somebodi look way depart justic use dossier bother greatli way use want somebodi look graham said said russia investig must continu matter fact would hurt us ignor said',\n",
              "       ...,\n",
              "       'sunnistan us alli safe zone plan take territori booti northern syriapatrick henningsen st centuri wirerememb obama administr told world hope identifi reliabl non jihadist moder rebel hang turkey jordan might want fight washington syria drama infam train equip program creat arab armi syria want give anoth tri week pentagon offici announc new plan train moder fighter time project would take place insid syria hell intern law told request ankara nato alli sing hymn claim new effort help secur turkey porou border syria stori goe washington polit cover fashion popular post pari theme protect civil europ invad hord terrorist hide among state wall street journal program would address part tens long run dialogu washington ankara seal border western govern long complain avenu extremist leav syria travel intern time announc seem uncanni backdrop unlik isi suicid bomb terrorist attack turkey place victim happen german tourist feed perfectli europ new binari fear set terror immigr shade gladio undoubtedli see western journalist entertain conspiraci theori friend nation builder inc bank global public suffer syria fatigu time realli pay attent west real agenda region start unfold despit us led coalit scandal lie epic failur fals flag offici conspiraci theori mainstream narr syria persist tv screen newspap constantli lo angel london pari riyadh everi politician pundit seem opinion syria everyon except syria peopl like peopl iraq libya afghanistan yemen ever countri found cleaver western interest never afford say destini tradit washington london pari syrian voic count one hand pick western technocrat approv saudi royal famili form ever chang recogn govern exil syrian nation council current could riad hijab georg sabra khale khoja next week could three other depend fallen favor washington riyadh anyon listen close enough earli conflict would heard determin member western back syrian opposit admit would make deal devil take win power four year later see exactli happen whether believ devil us led coalit terrorist armi fight group might caus debat other argu bigger devil wahabist salafist terrorist brigad like al nusra front islam state west gcc partner unfortun realiti two devil mutual exclus west partner creat terror crisi intent unveil grand solut problem plan zthe terrorist enclav syria design purpos implant hostil metastasi right middl territori neocoloni power plan tear away bare sovereign nation iraq syria sinc western led cartel deploy variou level intern subterfug syria start plan arab spring method ignit popular street upris might captur world attent minut enough gener high qualiti evoc imageri social media storm carri meme liberti around globe inspir peopl street twitter demand chang cri freedom would back us state depart along functionari human right watch amnesti intern america open societi institut fund ngo human right organ obvious work next plan b polit opposit suddenli transcend arm paramilitari opposit follow brutal violenc kill side us alli wast time pledg weapon train cash logist support arm opposit west set parallel govern syria abroad fail gain traction syria peopl came plan c opposit would quickli overrun absorb massiv array mostli foreign jihadi mercenari soldier misfortun assort terrorist fed alreadi establish war terror western narr west familiar entri point fight washington london pari tel aviv riyadh doha ankara axi hope terrorist would job overthrow govern bashar al assad damascu collaps countri spiral pit sectarian tribal chao could blame work libya late fast forward fail overthrow assad implod nation state syria men women nation builder inc muscl brussel nato quickli move plan take territori say plan alway schemat certainli back mani peopl would dare specul know wikileak cabl oper goe back least realiti probabl much earlier take long view histori audaci build rebuild euro centric empir middl east one could say process began day syke picot agreement sign conceal post coloni line drawn exactli year ago latent potenti conflict uncivil war see today border redrawn certain drawn power involv centuri ago whatev arrang weaken strengthen region certainli strengthen present nation state region especi syria proprietari power want new state stuck perpetu state neocoloni depend emphasi financi secur depend mice men wire one first news sourc warn washington initi impuls back began call fli zone northern syria clear problem reaction solut dialect play isi object public reaction plan might come fruition fall funni thing happen way un gener assembl new york citi later week russia announc would insert air forc syrian quagmir thwart master plan us turkey nato control fli zone along turkish syrian border suffic say russia alreadi knew nato next move act accordingli purpos ask two day ago prospect washington dc latest brainchild train equip time insid syria initi thought know beneath sand top good pirat tell want claim share booti share kill truth train equip previou train equip program end washington militari brass parad front senat arm servic committe roundli lambast fail train even hand moder rebel award million us taxpay get er done origin announc amid much fanfar public told us govern conjunct cia would arm train moder milit turkey jordan base saudi arabia send fight insid syria washington claim new traine meant fight isi syrian govern forc judg unwav regim chang rhetor west would highli naiv think strictli isi nine month train equip project us armi gen lloyd austin iii acknowledg sept manag get four five battlefield one member media challeng statement probabl happi answer given one gave hawkish critic obama administr pound flesh want serv intensifi call new year us boot ground syria dove love seem prove back proxi work best solut call quit sanguin mainstream media serv familiar govern narr cock cover media natur default posit word well work noth new incompet govern noth see move along ask money disappear realli inquir cost million train five men appar way much work media one journalist stop ask fighter train dispatch happen half billion dollar real answer question self evid anyon studi report ground syria way uncomfort us media stomach us train equip program provid necessari offici cover allow prosecut dirti war tabl failur like fall guy gen lloyd austin believ success judg prolifer heavi weaponri lethal arm made hand al qaeda syria al nusra front isi jaysh al islam other clear uncl sam gener donat million definit use equip train rebel syria middl east comment analyst sharmin narwani explain west perenni dilemma tri identifi moder syria year washington insist arm moder group syria gone great length avoid name moder moder name identifi us would certain past present futur atroc video would surfac prove otherwis us could guarante group arm train financ syria past five year next train equip round focus use secur follow map juli still repres current militari chessboard syria safe zone sunnistan somehow feel like bad memori kla kosovo import jihadist fighter bosnia nato lord newli balkan region hear us offici like john mccain clueless republican presidenti candid like marco rubio carli fiorina crow safe zone northern syria refer see map safe zone happen exact area isi current hold court safe zone alright refuge syrian flee evil bashar al assad rather safe zone array rebel terrorist fighter part defacto sunni state lett wait us led coalit safe zone caliph american decri anyon requir proof grand chessboard play syria need look set us airstrik took place christma decemb us fighter bomber struck syrian militari base locat villag ayyash deir ezzor provinc east raqqa kill syrian arab armi saa soldier wound addit other natur pentagon swiftli deni attack took place happen incid extrem tell explain global affair analyst mike whitney counterpunch magazin also worth note accord south front militari analysi us bomb raid coincid full scale isi offens villag ayyash bgelia word us attack provid suffici air cover isi terrorist carri ground oper part plan mere coincid us air forc coordin isi boot ground achiev common militari object end less hour attack us warplan bomb villag al khan north eastern syria kill syrian civilian includ least four women seven children four women messag us militari send lethal attack want control air space east syria plan remov isi establish de facto sunni state consist scheme break syria iraq smaller canton govern local warlord islam fanat us puppet also take place moment dec th turkey quiet littl invas northern iraq send hundr troop least tank territori north mosul right kurd isi note illeg incurs nato member turkey approv iraqi govern baghdad iraqi pm haider al abadi call turkey immedi withdraw troop judg washington silenc matter obviou us gave turkey full bless zero hedg astut point obviou importantli right al arabi al jade claim smuggl rout illeg isi crude turkey iraq surprisingli turkey sudden move also came time russia began publicli expos turkey clandestin role facilit isi oil trade well launch airstrik destroy isi oil convoy move syria turkey turkish leader recep tayyip erdo photo left place militari asset locat stolen isi oil make way iraq turkey hardli coincid make mistak end nato militari axl unit state turkey along saudi back boot ground isi al nusra made critic strateg move unison specif militari purpos time nudg toward secur territori key piec final posit requir new crisi either region europ america allow axi power move quickli take need implement next phase game whether creat kurdish canton sunni state lett move rare cover western intern media perfectli clear term sunni shia favor sectarian lexicon use nation builder inc intern partner riyadh tel aviv intent reduc muslim world paradigm architect instabl use term attempt margin dehuman muslim selfish end safe zone us led coalit step month long punch n judi air oper supplant isi raqqa western back jihadi later requir safe corridor flee still remain connect turkish suppli line washington safe zone would also provid much need safe rebel sent pack syrian govern town like hom other part painstak disarm reconcili process assad govern opposit rebel will particip program nato gcc axi establish mini protector insid syria provid everyth isi al nusra ahrar al sham turkmen et need secur launch pad incurs insid syria certainli guarante longer protract conflict syria beyond littl sunni wedg also conveni locat next larg rebel terrorist conting syria northwestern idlib governor provinc syria border turkey porou begin conflict propos safe zone allow turkey maintain statu quo continu allow free flow weapon rebel terrorist fighter alik along oil narcot human traffick move freeli southern border syria regim chang rhetor anyth go along turn blind eye nato member turkey role facilit suppli line safe passag al qaeda isi washington agenda fairli transpar establish intern recogn safe zone fli zone top central planner believ platform need eventu destroy damascu instal western puppet carv syria northern iraq accordingli isi rat line black market oil key compon carri conflict syria iraq architect instabl washington one crucial benefit carv sunni territori northern eastern syria avail oil help fund paramilitari terrorist need make sustain guarante uninterrupt incom stream black market oil present make way syria turkey via kurdistan help requir kurdish region govern krg stakehold includ british turkish firm genel energi one firm provid end run market illicit isi oil ditto key mover shaker raqqa new rockefel class bilal erdogan son turkish presid accord numer recent report alreadi amass small fortun lucr oil terror trade problem one washington london pari overli concern much less upset iraqi kurdish turkish opposit offici accus turkish govern krg deliber allow smuggl oper take place even provision state lett canton conjur around guarante greater kurdistan ever see light day nation builder inc anyth say bout promis greater kurdistan import neocolonialist realiti greater kurdistan turkey also interest ambit greater kurdistan compat iraq crazi idea either obviou financi energi resourc reason remain limb indefinit even smaller quasi kurdish entiti sprout around krg turkey ongo kurdish problem within turkish border ankara natur view express kurdish autonomi around threat potenti inspir intern kurdish solidar rule kurd mean keep divid play neighbor within turkish establish believ old score still unsettl reclaim turk territori syria iraq see also special report isi oil follow money back europ sunnistan proper emerg come set piec place iraq across kurdistan mike whitney explain look like agreement struck turkey krg unit state seiz part northern iraq eastern syria creat de facto sunni state jointli control ankara washington also look like obama agre use dodgi jihadi proxi aka terrorist work alongsid us special forc carri futur militari oper effort remov assad temporarili put backburn determin destroy syria strong ever anoth dismemb part old syria iraq central planner hope hack area call rojava see map western kurdistan region northern syria formerli known syrian kurdistan gain autonomi novemb part ongo rojava revolut kurdish defens forc known ypg peopl defens unit friendli foot neighbor turkey number reason least ypg defens forc present resist al nusra isi encroach three rojava canton turkey bad busi rojava factor washington plan clear yet occupi strateg squar chessboard make mistak histori actor plan fool talk peac stabil humanitarian platitud western leader un fair weather intern commun anoth indic plan full back neoconserv illiterati israel pnac walru former us ambassador un john bolton recent articl establish daili journal polit poster new york time state today realiti iraq syria known gone islam state carv new entiti post ottoman empir settlement mobil sunni opposit regim presid bashar al assad iran domin govern iraq also emerg year effort de facto independ kurdistan central planner happili frame geopolit scenario within prefer theme sunni vs shia sectarian strife region happen suit interest desir saudi arabia israel bolton confirm context defeat islam state mean restor power mr assad syria iran puppet iraq outcom neither feasibl desir rather strive recreat post world war map washington recogn new geopolit best altern islam state northeastern syria western iraq new independ sunni state fast mr ambassador islam state sunni state intent purpos call establish caliph funni goe right head conserv one mani geostrateg move guarante instabl militari conflict region anoth year well provid time entr e azerbaijan iran later toward eurasian heartland dagestan russia emerg energi center geograph underbelli meantim expect pelt endless propaganda starv children one town anoth chang week week usual slogan like must act blame bashar al assad suffer peopl alreadi wear thin us nato gcc axi stop flood syria region weapon terrorist fighter continu polici toppl secular nation state attempt hold peac talk end back squar one stand anoth exercis futil syrian conflict good one thing say script western narr variat final hit wall truth author patrick henningsen writer lectur global affair analyst intern tv radio also founder co editor stcenturywir com read syria news st centuri wire syria file',\n",
              "       'blow million al jazeera america final call quit st centuri wire say al jazeera america go histori one biggest failur broadcast media histori ever sinc us alli began plot overthrow libya syria al jazeera deterior promis intern news network becom full blown agit prop media shop us state depart pentagon fact us militari central command centcom middl east region locat qatar capit doha conveni locat road al jazeera headquart nice cozi al jazeera role promot regim chang destabl syria record histori mani shame exhibit media fakeri qatari royal tri expand propaganda oper north america matter much money threw royal love throw money thing tri get work one care much less watch know massiv disappoint everyon work tirelessli long term futur decis made way ajam done anyth great job read compani email ceo al anstey obtain politico inde tri everyth seem short pay american watch program al jazeera america close http co emfjbw uc pic twitter com hdea ujtpt al jazeera america ajam januari qatari own al jazeera purchas current tv al gore inflat million wait get wors money noth gore got fat ajam deal addit million doha blew buy gore lemon current tv qatari spent least million per year along mani million spent advertis ajam network slot onlin ad along billboard print media promot qatari easi ticket us cabl satellit network boy gore pull fast one total would look million whole parti apex ajam would lucki pull viewer prime time realli amount noth market share money consid hundr staff media execut produc employ safe say someon clue coloss joke bright side qatari alway blame collaps oil price lack spare cash fund propaganda mill read mainstream media epic fail st centuri wire msm watch',\n",
              "       'u navi sailor held iranian militari sign neocon polit stunt st centuri wire say wire predict new year look ahead new hostag crisi underway today iranian militari forc report two small riverin u navi boat seiz iranian water current held iran farsi island persian gulf total u navi personnel nine men one woman detain iranian author navi stray u navi patrol boat persian gulf imag sourc usni accord pentagon initi narr follow sailor train mission around noon et boat experienc mechan difficulti drift iranian claim water detain iranian coast guard offici ad stori sinc slightli revis white hous spokesman josh earnest follow narr boat travel en rout kuwait bahrain stop detain iranian accord usni search rescu team harri truman strike group scrambl aid crew stop short crew taken iranian contact iran receiv assur crew vessel return promptli pentagon spokesman peter cook told ap accord persian gulf tv farsi island one iranian island persian gulf bushehr provinc iran irgc navi base island island area km complet restrict public due top secret government activ accord nbc news u state depart touch tehran offici iranian recogn u navi stray cours mistak sailor releas within hour war inc cnn wolf blitzer wast time ramp talk militari tension isra financ neocon senat tom cotton neocon stuntalreadi u media includ cnn fox run talk point could come wors time presid obama right tonight state union speech tri prove american peopl iran countri trust implement histor nuclear deal latest naval controversi also come day implement phase iran nuclear deal say coincid might naiv said could gop israel align member pentagon intellig establish help engin today bizarr mini crisi order help weaken u iran relat extens obama controversi iranian nuclear deal look like case evidenc quick appear israel lobbi sponsor pro war u senat tom cotton r place cnn direct aggress u militari talk point live air stori broke today cotton photo left immedi call event hostil blame iran u boat drift iranian water blame crisi presid obama claim embolden iranian aggress cotton goe tell giant lie media handler cnn wolf blitzer even blink much less challeng cotton imaginari statement iranian larg respons kill american soldier iraq afghanistan cotton went threaten iran say sailor vessel need immedi releas releas iran nuclear deal go forward militari forc tabl retali act aggress cotton proceed give veil nuclear threat iran say militari option tabl would washington top oper go far engin exacerb intern crisi dispatch boat cours know full well iran would harm u personnel use incid injur lame duck answer ye done american diplomat citizen held hostag day becam known iranian hostag crisi happen take place us presidenti elect cycl presid jimmi carter run reelect challeng ronald reagan r crisi includ horrif fail rescu attempt use carter media accord report time reagan campaign oper manag backdoor deal element new iranian regim hold releas hostag elect end reagan took credit victori surprisingli end prearrang cnn segment cotton invok feckless foreign polici jimmi carter caus iran hostag crisi compar presid obama current polici u offici cnn could brought short notic chose senat tom cotton hawkish closest align israel clearli look like neocon stunt stay tune updat read iran news st centuri wire iran file'],\n",
              "      dtype=object)"
            ]
          },
          "metadata": {},
          "execution_count": 83
        }
      ]
    },
    {
      "cell_type": "code",
      "source": [
        "y"
      ],
      "metadata": {
        "colab": {
          "base_uri": "https://localhost:8080/"
        },
        "id": "UGhHELD8HWsz",
        "outputId": "830ce8c9-de80-4698-837c-5ebf4d86879d"
      },
      "execution_count": null,
      "outputs": [
        {
          "output_type": "execute_result",
          "data": {
            "text/plain": [
              "array([1, 1, 1, ..., 0, 0, 0])"
            ]
          },
          "metadata": {},
          "execution_count": 84
        }
      ]
    },
    {
      "cell_type": "code",
      "source": [
        "vec=TfidfVectorizer()"
      ],
      "metadata": {
        "id": "TEmld0xDHW_O"
      },
      "execution_count": null,
      "outputs": []
    },
    {
      "cell_type": "code",
      "source": [
        "x=vec.fit_transform(x)"
      ],
      "metadata": {
        "id": "AVq0c0RsH9xN"
      },
      "execution_count": null,
      "outputs": []
    },
    {
      "cell_type": "code",
      "source": [
        "print(x)"
      ],
      "metadata": {
        "colab": {
          "base_uri": "https://localhost:8080/"
        },
        "id": "RHH-GrHSHfQC",
        "outputId": "ba9e744e-2ade-45dd-a4b3-96983432c783"
      },
      "execution_count": null,
      "outputs": [
        {
          "output_type": "stream",
          "name": "stdout",
          "text": [
            "<Compressed Sparse Row sparse matrix of dtype 'float64'\n",
            "\twith 6914989 stored elements and shape (44898, 107439)>\n",
            "  Coords\tValues\n",
            "  (0, 12058)\t0.19521491940564173\n",
            "  (0, 30721)\t0.05041354644009124\n",
            "  (0, 53727)\t0.04919754269460111\n",
            "  (0, 77697)\t0.2658451263965005\n",
            "  (0, 31423)\t0.0462137527679663\n",
            "  (0, 31080)\t0.1919193924744791\n",
            "  (0, 82660)\t0.08893738087306312\n",
            "  (0, 78175)\t0.013944360361530581\n",
            "  (0, 38411)\t0.02442017534346132\n",
            "  (0, 18374)\t0.07532915062017653\n",
            "  (0, 29434)\t0.04450243051127701\n",
            "  (0, 18250)\t0.0491818873897411\n",
            "  (0, 100738)\t0.08462842572837592\n",
            "  (0, 60197)\t0.020058447774950677\n",
            "  (0, 41034)\t0.033288721212235646\n",
            "  (0, 29041)\t0.04314652593221935\n",
            "  (0, 62319)\t0.0502845842339482\n",
            "  (0, 21880)\t0.1132454508096461\n",
            "  (0, 69073)\t0.10775010606672926\n",
            "  (0, 91586)\t0.22934887962502826\n",
            "  (0, 20470)\t0.08459452800736066\n",
            "  (0, 12991)\t0.03261621139322038\n",
            "  (0, 89841)\t0.05442025547753104\n",
            "  (0, 98710)\t0.03010105474750498\n",
            "  (0, 78007)\t0.053568914010552485\n",
            "  :\t:\n",
            "  (44897, 76971)\t0.02526374113483791\n",
            "  (44897, 62439)\t0.03323610998016226\n",
            "  (44897, 80873)\t0.15550870067637587\n",
            "  (44897, 10104)\t0.18798276941042488\n",
            "  (44897, 44025)\t0.04263614718692527\n",
            "  (44897, 6705)\t0.03572817691178705\n",
            "  (44897, 99773)\t0.06814415373788744\n",
            "  (44897, 50455)\t0.03699508199799356\n",
            "  (44897, 9798)\t0.07834718097800367\n",
            "  (44897, 62002)\t0.03848766059847216\n",
            "  (44897, 69826)\t0.16920237504364816\n",
            "  (44897, 50914)\t0.03491994947115461\n",
            "  (44897, 59018)\t0.038074275762578304\n",
            "  (44897, 42238)\t0.03995901600274526\n",
            "  (44897, 9781)\t0.0439335018213429\n",
            "  (44897, 28780)\t0.04087777916067736\n",
            "  (44897, 37669)\t0.041134033931520576\n",
            "  (44897, 29896)\t0.10759777908717036\n",
            "  (44897, 78924)\t0.052962922654803714\n",
            "  (44897, 62912)\t0.1557407050393165\n",
            "  (44897, 30250)\t0.045642202182370965\n",
            "  (44897, 98859)\t0.10759777908717036\n",
            "  (44897, 12441)\t0.057557861561416485\n",
            "  (44897, 89356)\t0.057557861561416485\n",
            "  (44897, 72395)\t0.057557861561416485\n"
          ]
        }
      ]
    },
    {
      "cell_type": "code",
      "source": [
        "x_train,x_test,y_train,y_test=train_test_split(x,y,test_size=0.2,stratify=y,random_state=2)"
      ],
      "metadata": {
        "id": "2fdMiNtaHoyo"
      },
      "execution_count": null,
      "outputs": []
    },
    {
      "cell_type": "code",
      "source": [
        "lr=LogisticRegression()\n",
        "lr.fit(x_train,y_train)\n"
      ],
      "metadata": {
        "colab": {
          "base_uri": "https://localhost:8080/",
          "height": 80
        },
        "id": "Ae_xmlpiIT72",
        "outputId": "32da194c-65b7-4f94-af66-68601fbd84f0"
      },
      "execution_count": null,
      "outputs": [
        {
          "output_type": "execute_result",
          "data": {
            "text/plain": [
              "LogisticRegression()"
            ],
            "text/html": [
              "<style>#sk-container-id-1 {\n",
              "  /* Definition of color scheme common for light and dark mode */\n",
              "  --sklearn-color-text: #000;\n",
              "  --sklearn-color-text-muted: #666;\n",
              "  --sklearn-color-line: gray;\n",
              "  /* Definition of color scheme for unfitted estimators */\n",
              "  --sklearn-color-unfitted-level-0: #fff5e6;\n",
              "  --sklearn-color-unfitted-level-1: #f6e4d2;\n",
              "  --sklearn-color-unfitted-level-2: #ffe0b3;\n",
              "  --sklearn-color-unfitted-level-3: chocolate;\n",
              "  /* Definition of color scheme for fitted estimators */\n",
              "  --sklearn-color-fitted-level-0: #f0f8ff;\n",
              "  --sklearn-color-fitted-level-1: #d4ebff;\n",
              "  --sklearn-color-fitted-level-2: #b3dbfd;\n",
              "  --sklearn-color-fitted-level-3: cornflowerblue;\n",
              "\n",
              "  /* Specific color for light theme */\n",
              "  --sklearn-color-text-on-default-background: var(--sg-text-color, var(--theme-code-foreground, var(--jp-content-font-color1, black)));\n",
              "  --sklearn-color-background: var(--sg-background-color, var(--theme-background, var(--jp-layout-color0, white)));\n",
              "  --sklearn-color-border-box: var(--sg-text-color, var(--theme-code-foreground, var(--jp-content-font-color1, black)));\n",
              "  --sklearn-color-icon: #696969;\n",
              "\n",
              "  @media (prefers-color-scheme: dark) {\n",
              "    /* Redefinition of color scheme for dark theme */\n",
              "    --sklearn-color-text-on-default-background: var(--sg-text-color, var(--theme-code-foreground, var(--jp-content-font-color1, white)));\n",
              "    --sklearn-color-background: var(--sg-background-color, var(--theme-background, var(--jp-layout-color0, #111)));\n",
              "    --sklearn-color-border-box: var(--sg-text-color, var(--theme-code-foreground, var(--jp-content-font-color1, white)));\n",
              "    --sklearn-color-icon: #878787;\n",
              "  }\n",
              "}\n",
              "\n",
              "#sk-container-id-1 {\n",
              "  color: var(--sklearn-color-text);\n",
              "}\n",
              "\n",
              "#sk-container-id-1 pre {\n",
              "  padding: 0;\n",
              "}\n",
              "\n",
              "#sk-container-id-1 input.sk-hidden--visually {\n",
              "  border: 0;\n",
              "  clip: rect(1px 1px 1px 1px);\n",
              "  clip: rect(1px, 1px, 1px, 1px);\n",
              "  height: 1px;\n",
              "  margin: -1px;\n",
              "  overflow: hidden;\n",
              "  padding: 0;\n",
              "  position: absolute;\n",
              "  width: 1px;\n",
              "}\n",
              "\n",
              "#sk-container-id-1 div.sk-dashed-wrapped {\n",
              "  border: 1px dashed var(--sklearn-color-line);\n",
              "  margin: 0 0.4em 0.5em 0.4em;\n",
              "  box-sizing: border-box;\n",
              "  padding-bottom: 0.4em;\n",
              "  background-color: var(--sklearn-color-background);\n",
              "}\n",
              "\n",
              "#sk-container-id-1 div.sk-container {\n",
              "  /* jupyter's `normalize.less` sets `[hidden] { display: none; }`\n",
              "     but bootstrap.min.css set `[hidden] { display: none !important; }`\n",
              "     so we also need the `!important` here to be able to override the\n",
              "     default hidden behavior on the sphinx rendered scikit-learn.org.\n",
              "     See: https://github.com/scikit-learn/scikit-learn/issues/21755 */\n",
              "  display: inline-block !important;\n",
              "  position: relative;\n",
              "}\n",
              "\n",
              "#sk-container-id-1 div.sk-text-repr-fallback {\n",
              "  display: none;\n",
              "}\n",
              "\n",
              "div.sk-parallel-item,\n",
              "div.sk-serial,\n",
              "div.sk-item {\n",
              "  /* draw centered vertical line to link estimators */\n",
              "  background-image: linear-gradient(var(--sklearn-color-text-on-default-background), var(--sklearn-color-text-on-default-background));\n",
              "  background-size: 2px 100%;\n",
              "  background-repeat: no-repeat;\n",
              "  background-position: center center;\n",
              "}\n",
              "\n",
              "/* Parallel-specific style estimator block */\n",
              "\n",
              "#sk-container-id-1 div.sk-parallel-item::after {\n",
              "  content: \"\";\n",
              "  width: 100%;\n",
              "  border-bottom: 2px solid var(--sklearn-color-text-on-default-background);\n",
              "  flex-grow: 1;\n",
              "}\n",
              "\n",
              "#sk-container-id-1 div.sk-parallel {\n",
              "  display: flex;\n",
              "  align-items: stretch;\n",
              "  justify-content: center;\n",
              "  background-color: var(--sklearn-color-background);\n",
              "  position: relative;\n",
              "}\n",
              "\n",
              "#sk-container-id-1 div.sk-parallel-item {\n",
              "  display: flex;\n",
              "  flex-direction: column;\n",
              "}\n",
              "\n",
              "#sk-container-id-1 div.sk-parallel-item:first-child::after {\n",
              "  align-self: flex-end;\n",
              "  width: 50%;\n",
              "}\n",
              "\n",
              "#sk-container-id-1 div.sk-parallel-item:last-child::after {\n",
              "  align-self: flex-start;\n",
              "  width: 50%;\n",
              "}\n",
              "\n",
              "#sk-container-id-1 div.sk-parallel-item:only-child::after {\n",
              "  width: 0;\n",
              "}\n",
              "\n",
              "/* Serial-specific style estimator block */\n",
              "\n",
              "#sk-container-id-1 div.sk-serial {\n",
              "  display: flex;\n",
              "  flex-direction: column;\n",
              "  align-items: center;\n",
              "  background-color: var(--sklearn-color-background);\n",
              "  padding-right: 1em;\n",
              "  padding-left: 1em;\n",
              "}\n",
              "\n",
              "\n",
              "/* Toggleable style: style used for estimator/Pipeline/ColumnTransformer box that is\n",
              "clickable and can be expanded/collapsed.\n",
              "- Pipeline and ColumnTransformer use this feature and define the default style\n",
              "- Estimators will overwrite some part of the style using the `sk-estimator` class\n",
              "*/\n",
              "\n",
              "/* Pipeline and ColumnTransformer style (default) */\n",
              "\n",
              "#sk-container-id-1 div.sk-toggleable {\n",
              "  /* Default theme specific background. It is overwritten whether we have a\n",
              "  specific estimator or a Pipeline/ColumnTransformer */\n",
              "  background-color: var(--sklearn-color-background);\n",
              "}\n",
              "\n",
              "/* Toggleable label */\n",
              "#sk-container-id-1 label.sk-toggleable__label {\n",
              "  cursor: pointer;\n",
              "  display: flex;\n",
              "  width: 100%;\n",
              "  margin-bottom: 0;\n",
              "  padding: 0.5em;\n",
              "  box-sizing: border-box;\n",
              "  text-align: center;\n",
              "  align-items: start;\n",
              "  justify-content: space-between;\n",
              "  gap: 0.5em;\n",
              "}\n",
              "\n",
              "#sk-container-id-1 label.sk-toggleable__label .caption {\n",
              "  font-size: 0.6rem;\n",
              "  font-weight: lighter;\n",
              "  color: var(--sklearn-color-text-muted);\n",
              "}\n",
              "\n",
              "#sk-container-id-1 label.sk-toggleable__label-arrow:before {\n",
              "  /* Arrow on the left of the label */\n",
              "  content: \"▸\";\n",
              "  float: left;\n",
              "  margin-right: 0.25em;\n",
              "  color: var(--sklearn-color-icon);\n",
              "}\n",
              "\n",
              "#sk-container-id-1 label.sk-toggleable__label-arrow:hover:before {\n",
              "  color: var(--sklearn-color-text);\n",
              "}\n",
              "\n",
              "/* Toggleable content - dropdown */\n",
              "\n",
              "#sk-container-id-1 div.sk-toggleable__content {\n",
              "  max-height: 0;\n",
              "  max-width: 0;\n",
              "  overflow: hidden;\n",
              "  text-align: left;\n",
              "  /* unfitted */\n",
              "  background-color: var(--sklearn-color-unfitted-level-0);\n",
              "}\n",
              "\n",
              "#sk-container-id-1 div.sk-toggleable__content.fitted {\n",
              "  /* fitted */\n",
              "  background-color: var(--sklearn-color-fitted-level-0);\n",
              "}\n",
              "\n",
              "#sk-container-id-1 div.sk-toggleable__content pre {\n",
              "  margin: 0.2em;\n",
              "  border-radius: 0.25em;\n",
              "  color: var(--sklearn-color-text);\n",
              "  /* unfitted */\n",
              "  background-color: var(--sklearn-color-unfitted-level-0);\n",
              "}\n",
              "\n",
              "#sk-container-id-1 div.sk-toggleable__content.fitted pre {\n",
              "  /* unfitted */\n",
              "  background-color: var(--sklearn-color-fitted-level-0);\n",
              "}\n",
              "\n",
              "#sk-container-id-1 input.sk-toggleable__control:checked~div.sk-toggleable__content {\n",
              "  /* Expand drop-down */\n",
              "  max-height: 200px;\n",
              "  max-width: 100%;\n",
              "  overflow: auto;\n",
              "}\n",
              "\n",
              "#sk-container-id-1 input.sk-toggleable__control:checked~label.sk-toggleable__label-arrow:before {\n",
              "  content: \"▾\";\n",
              "}\n",
              "\n",
              "/* Pipeline/ColumnTransformer-specific style */\n",
              "\n",
              "#sk-container-id-1 div.sk-label input.sk-toggleable__control:checked~label.sk-toggleable__label {\n",
              "  color: var(--sklearn-color-text);\n",
              "  background-color: var(--sklearn-color-unfitted-level-2);\n",
              "}\n",
              "\n",
              "#sk-container-id-1 div.sk-label.fitted input.sk-toggleable__control:checked~label.sk-toggleable__label {\n",
              "  background-color: var(--sklearn-color-fitted-level-2);\n",
              "}\n",
              "\n",
              "/* Estimator-specific style */\n",
              "\n",
              "/* Colorize estimator box */\n",
              "#sk-container-id-1 div.sk-estimator input.sk-toggleable__control:checked~label.sk-toggleable__label {\n",
              "  /* unfitted */\n",
              "  background-color: var(--sklearn-color-unfitted-level-2);\n",
              "}\n",
              "\n",
              "#sk-container-id-1 div.sk-estimator.fitted input.sk-toggleable__control:checked~label.sk-toggleable__label {\n",
              "  /* fitted */\n",
              "  background-color: var(--sklearn-color-fitted-level-2);\n",
              "}\n",
              "\n",
              "#sk-container-id-1 div.sk-label label.sk-toggleable__label,\n",
              "#sk-container-id-1 div.sk-label label {\n",
              "  /* The background is the default theme color */\n",
              "  color: var(--sklearn-color-text-on-default-background);\n",
              "}\n",
              "\n",
              "/* On hover, darken the color of the background */\n",
              "#sk-container-id-1 div.sk-label:hover label.sk-toggleable__label {\n",
              "  color: var(--sklearn-color-text);\n",
              "  background-color: var(--sklearn-color-unfitted-level-2);\n",
              "}\n",
              "\n",
              "/* Label box, darken color on hover, fitted */\n",
              "#sk-container-id-1 div.sk-label.fitted:hover label.sk-toggleable__label.fitted {\n",
              "  color: var(--sklearn-color-text);\n",
              "  background-color: var(--sklearn-color-fitted-level-2);\n",
              "}\n",
              "\n",
              "/* Estimator label */\n",
              "\n",
              "#sk-container-id-1 div.sk-label label {\n",
              "  font-family: monospace;\n",
              "  font-weight: bold;\n",
              "  display: inline-block;\n",
              "  line-height: 1.2em;\n",
              "}\n",
              "\n",
              "#sk-container-id-1 div.sk-label-container {\n",
              "  text-align: center;\n",
              "}\n",
              "\n",
              "/* Estimator-specific */\n",
              "#sk-container-id-1 div.sk-estimator {\n",
              "  font-family: monospace;\n",
              "  border: 1px dotted var(--sklearn-color-border-box);\n",
              "  border-radius: 0.25em;\n",
              "  box-sizing: border-box;\n",
              "  margin-bottom: 0.5em;\n",
              "  /* unfitted */\n",
              "  background-color: var(--sklearn-color-unfitted-level-0);\n",
              "}\n",
              "\n",
              "#sk-container-id-1 div.sk-estimator.fitted {\n",
              "  /* fitted */\n",
              "  background-color: var(--sklearn-color-fitted-level-0);\n",
              "}\n",
              "\n",
              "/* on hover */\n",
              "#sk-container-id-1 div.sk-estimator:hover {\n",
              "  /* unfitted */\n",
              "  background-color: var(--sklearn-color-unfitted-level-2);\n",
              "}\n",
              "\n",
              "#sk-container-id-1 div.sk-estimator.fitted:hover {\n",
              "  /* fitted */\n",
              "  background-color: var(--sklearn-color-fitted-level-2);\n",
              "}\n",
              "\n",
              "/* Specification for estimator info (e.g. \"i\" and \"?\") */\n",
              "\n",
              "/* Common style for \"i\" and \"?\" */\n",
              "\n",
              ".sk-estimator-doc-link,\n",
              "a:link.sk-estimator-doc-link,\n",
              "a:visited.sk-estimator-doc-link {\n",
              "  float: right;\n",
              "  font-size: smaller;\n",
              "  line-height: 1em;\n",
              "  font-family: monospace;\n",
              "  background-color: var(--sklearn-color-background);\n",
              "  border-radius: 1em;\n",
              "  height: 1em;\n",
              "  width: 1em;\n",
              "  text-decoration: none !important;\n",
              "  margin-left: 0.5em;\n",
              "  text-align: center;\n",
              "  /* unfitted */\n",
              "  border: var(--sklearn-color-unfitted-level-1) 1pt solid;\n",
              "  color: var(--sklearn-color-unfitted-level-1);\n",
              "}\n",
              "\n",
              ".sk-estimator-doc-link.fitted,\n",
              "a:link.sk-estimator-doc-link.fitted,\n",
              "a:visited.sk-estimator-doc-link.fitted {\n",
              "  /* fitted */\n",
              "  border: var(--sklearn-color-fitted-level-1) 1pt solid;\n",
              "  color: var(--sklearn-color-fitted-level-1);\n",
              "}\n",
              "\n",
              "/* On hover */\n",
              "div.sk-estimator:hover .sk-estimator-doc-link:hover,\n",
              ".sk-estimator-doc-link:hover,\n",
              "div.sk-label-container:hover .sk-estimator-doc-link:hover,\n",
              ".sk-estimator-doc-link:hover {\n",
              "  /* unfitted */\n",
              "  background-color: var(--sklearn-color-unfitted-level-3);\n",
              "  color: var(--sklearn-color-background);\n",
              "  text-decoration: none;\n",
              "}\n",
              "\n",
              "div.sk-estimator.fitted:hover .sk-estimator-doc-link.fitted:hover,\n",
              ".sk-estimator-doc-link.fitted:hover,\n",
              "div.sk-label-container:hover .sk-estimator-doc-link.fitted:hover,\n",
              ".sk-estimator-doc-link.fitted:hover {\n",
              "  /* fitted */\n",
              "  background-color: var(--sklearn-color-fitted-level-3);\n",
              "  color: var(--sklearn-color-background);\n",
              "  text-decoration: none;\n",
              "}\n",
              "\n",
              "/* Span, style for the box shown on hovering the info icon */\n",
              ".sk-estimator-doc-link span {\n",
              "  display: none;\n",
              "  z-index: 9999;\n",
              "  position: relative;\n",
              "  font-weight: normal;\n",
              "  right: .2ex;\n",
              "  padding: .5ex;\n",
              "  margin: .5ex;\n",
              "  width: min-content;\n",
              "  min-width: 20ex;\n",
              "  max-width: 50ex;\n",
              "  color: var(--sklearn-color-text);\n",
              "  box-shadow: 2pt 2pt 4pt #999;\n",
              "  /* unfitted */\n",
              "  background: var(--sklearn-color-unfitted-level-0);\n",
              "  border: .5pt solid var(--sklearn-color-unfitted-level-3);\n",
              "}\n",
              "\n",
              ".sk-estimator-doc-link.fitted span {\n",
              "  /* fitted */\n",
              "  background: var(--sklearn-color-fitted-level-0);\n",
              "  border: var(--sklearn-color-fitted-level-3);\n",
              "}\n",
              "\n",
              ".sk-estimator-doc-link:hover span {\n",
              "  display: block;\n",
              "}\n",
              "\n",
              "/* \"?\"-specific style due to the `<a>` HTML tag */\n",
              "\n",
              "#sk-container-id-1 a.estimator_doc_link {\n",
              "  float: right;\n",
              "  font-size: 1rem;\n",
              "  line-height: 1em;\n",
              "  font-family: monospace;\n",
              "  background-color: var(--sklearn-color-background);\n",
              "  border-radius: 1rem;\n",
              "  height: 1rem;\n",
              "  width: 1rem;\n",
              "  text-decoration: none;\n",
              "  /* unfitted */\n",
              "  color: var(--sklearn-color-unfitted-level-1);\n",
              "  border: var(--sklearn-color-unfitted-level-1) 1pt solid;\n",
              "}\n",
              "\n",
              "#sk-container-id-1 a.estimator_doc_link.fitted {\n",
              "  /* fitted */\n",
              "  border: var(--sklearn-color-fitted-level-1) 1pt solid;\n",
              "  color: var(--sklearn-color-fitted-level-1);\n",
              "}\n",
              "\n",
              "/* On hover */\n",
              "#sk-container-id-1 a.estimator_doc_link:hover {\n",
              "  /* unfitted */\n",
              "  background-color: var(--sklearn-color-unfitted-level-3);\n",
              "  color: var(--sklearn-color-background);\n",
              "  text-decoration: none;\n",
              "}\n",
              "\n",
              "#sk-container-id-1 a.estimator_doc_link.fitted:hover {\n",
              "  /* fitted */\n",
              "  background-color: var(--sklearn-color-fitted-level-3);\n",
              "}\n",
              "</style><div id=\"sk-container-id-1\" class=\"sk-top-container\"><div class=\"sk-text-repr-fallback\"><pre>LogisticRegression()</pre><b>In a Jupyter environment, please rerun this cell to show the HTML representation or trust the notebook. <br />On GitHub, the HTML representation is unable to render, please try loading this page with nbviewer.org.</b></div><div class=\"sk-container\" hidden><div class=\"sk-item\"><div class=\"sk-estimator fitted sk-toggleable\"><input class=\"sk-toggleable__control sk-hidden--visually\" id=\"sk-estimator-id-1\" type=\"checkbox\" checked><label for=\"sk-estimator-id-1\" class=\"sk-toggleable__label fitted sk-toggleable__label-arrow\"><div><div>LogisticRegression</div></div><div><a class=\"sk-estimator-doc-link fitted\" rel=\"noreferrer\" target=\"_blank\" href=\"https://scikit-learn.org/1.6/modules/generated/sklearn.linear_model.LogisticRegression.html\">?<span>Documentation for LogisticRegression</span></a><span class=\"sk-estimator-doc-link fitted\">i<span>Fitted</span></span></div></label><div class=\"sk-toggleable__content fitted\"><pre>LogisticRegression()</pre></div> </div></div></div></div>"
            ]
          },
          "metadata": {},
          "execution_count": 93
        }
      ]
    },
    {
      "cell_type": "code",
      "source": [
        "x_pred=lr.predict(x_train)\n",
        "acc=accuracy_score(x_pred,y_train)\n",
        "print(acc)"
      ],
      "metadata": {
        "colab": {
          "base_uri": "https://localhost:8080/"
        },
        "id": "C72aS25qIiq7",
        "outputId": "91b9d2a1-8477-499f-f83d-87627da0c5b5"
      },
      "execution_count": null,
      "outputs": [
        {
          "output_type": "stream",
          "name": "stdout",
          "text": [
            "0.9913413887187482\n"
          ]
        }
      ]
    },
    {
      "cell_type": "code",
      "source": [
        "test_pred=lr.predict(x_test)\n",
        "accur=accuracy_score(test_pred,y_test)\n",
        "print(accur)"
      ],
      "metadata": {
        "colab": {
          "base_uri": "https://localhost:8080/"
        },
        "id": "u_jxpKuhJKQ0",
        "outputId": "f3410188-da39-4ec2-917a-b1183b510324"
      },
      "execution_count": null,
      "outputs": [
        {
          "output_type": "stream",
          "name": "stdout",
          "text": [
            "0.9860801781737194\n"
          ]
        }
      ]
    },
    {
      "cell_type": "markdown",
      "source": [
        "making a predictive system\n"
      ],
      "metadata": {
        "id": "KfDQ6IyxJdz0"
      }
    },
    {
      "cell_type": "code",
      "source": [
        "x_new=x_test[0]\n",
        "predict=lr.predict(x_new)\n",
        "if(predict==0):\n",
        "  print('news is real')\n",
        "else:\n",
        "  print('news is fake')"
      ],
      "metadata": {
        "colab": {
          "base_uri": "https://localhost:8080/"
        },
        "id": "Kf5ISVRfJVrL",
        "outputId": "ef103fd6-94a8-4f83-ee37-0fe446df1f0c"
      },
      "execution_count": null,
      "outputs": [
        {
          "output_type": "stream",
          "name": "stdout",
          "text": [
            "news is fake\n"
          ]
        }
      ]
    },
    {
      "cell_type": "code",
      "source": [
        "print(y_test[0])"
      ],
      "metadata": {
        "colab": {
          "base_uri": "https://localhost:8080/"
        },
        "id": "BvpgqKSNJ2zM",
        "outputId": "70382e5c-e5b0-4234-abf2-200a2b2fdded"
      },
      "execution_count": null,
      "outputs": [
        {
          "output_type": "stream",
          "name": "stdout",
          "text": [
            "1\n"
          ]
        }
      ]
    },
    {
      "cell_type": "code",
      "source": [],
      "metadata": {
        "id": "FwpDsYlVJ-PX"
      },
      "execution_count": null,
      "outputs": []
    },
    {
      "cell_type": "code",
      "source": [],
      "metadata": {
        "id": "l0EktmYPKMSc"
      },
      "execution_count": null,
      "outputs": []
    }
  ]
}